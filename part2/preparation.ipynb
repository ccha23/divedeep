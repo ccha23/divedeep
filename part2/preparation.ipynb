{
 "cells": [
  {
   "cell_type": "markdown",
   "id": "481e5721",
   "metadata": {
    "editable": true,
    "slideshow": {
     "slide_type": ""
    },
    "tags": [
     "remove-cell"
    ]
   },
   "source": [
    "---\n",
    "title: Data Preparation\n",
    "math: \n",
    "    '\\abs': '\\left\\lvert #1 \\right\\rvert' \n",
    "    '\\norm': '\\left\\lvert #1 \\right\\rvert' \n",
    "    '\\Set': '\\left\\{ #1 \\right\\}'\n",
    "    '\\mc': '\\mathcal{#1}'\n",
    "    '\\M': '\\boldsymbol{#1}'\n",
    "    '\\R': '\\mathsf{#1}'\n",
    "    '\\RM': '\\boldsymbol{\\mathsf{#1}}'\n",
    "    '\\op': '\\operatorname{#1}'\n",
    "    '\\E': '\\op{E}'\n",
    "    '\\d': '\\mathrm{\\mathstrut d}'\n",
    "---"
   ]
  },
  {
   "cell_type": "markdown",
   "id": "4a0e6704",
   "metadata": {
    "hideCode": false,
    "hidePrompt": false,
    "slideshow": {
     "slide_type": "-"
    },
    "tags": [
     "remove-cell"
    ]
   },
   "source": [
    "**DIVE into Deep Learning**\n",
    "___"
   ]
  },
  {
   "cell_type": "code",
   "execution_count": null,
   "id": "fad90541",
   "metadata": {
    "hideCode": false,
    "hidePrompt": false,
    "init_cell": true,
    "slideshow": {
     "slide_type": "notes"
    }
   },
   "outputs": [],
   "source": [
    "import os\n",
    "import pprint as pp\n",
    "\n",
    "import matplotlib.pyplot as plt\n",
    "import numpy as np\n",
    "import tensorflow.compat.v2 as tf\n",
    "import tensorflow_datasets as tfds\n",
    "from IPython import display\n",
    "from matplotlib import pyplot as plt\n",
    "\n",
    "# produce vector inline graphics\n",
    "from matplotlib_inline.backend_inline import set_matplotlib_formats\n",
    "\n",
    "set_matplotlib_formats(\"svg\")\n",
    "os.environ[\"TF_CPP_MIN_LOG_LEVEL\"] = \"2\"\n",
    "%matplotlib widget"
   ]
  },
  {
   "cell_type": "markdown",
   "id": "cfbee6ef",
   "metadata": {
    "hideCode": false,
    "hidePrompt": false,
    "slideshow": {
     "slide_type": "slide"
    }
   },
   "source": [
    "## Loading Data"
   ]
  },
  {
   "cell_type": "markdown",
   "id": "d17ac92b",
   "metadata": {
    "slideshow": {
     "slide_type": "subslide"
    }
   },
   "source": [
    "**What is an example in a dataset?**"
   ]
  },
  {
   "cell_type": "markdown",
   "id": "4d7b6696",
   "metadata": {
    "slideshow": {
     "slide_type": "-"
    }
   },
   "source": [
    "A neural network learns from many examples collected together as a *dataset*. For instance, the [MNIST (Modified National Institute of Standards and Technology)](https://en.wikipedia.org/wiki/MNIST_database) dataset consists of labeled handwritten digits.$\\def\\abs#1{\\left\\lvert #1 \\right\\rvert}\n",
    "\\def\\Set#1{\\left\\{ #1 \\right\\}}\n",
    "\\def\\mc#1{\\mathcal{#1}}\n",
    "\\def\\M#1{\\boldsymbol{#1}}\n",
    "\\def\\R#1{\\mathsf{#1}}\n",
    "\\def\\RM#1{\\boldsymbol{\\mathsf{#1}}}\n",
    "\\def\\op#1{\\operatorname{#1}}\n",
    "\\def\\E{\\op{E}}\n",
    "\\def\\d{\\mathrm{\\mathstrut d}}\n",
    "$"
   ]
  },
  {
   "cell_type": "markdown",
   "id": "c6a2bc72",
   "metadata": {},
   "source": [
    "::::{figure} https://upload.wikimedia.org/wikipedia/commons/2/27/MnistExamples.png\n",
    ":name: fig:MnistExamples\n",
    ":alt: Mnist examples\n",
    ":align: left\n",
    "Mnist examples[^license]\n",
    "::::\n",
    "\n",
    "[^license]: Josef Steppan, CC BY-SA 4.0 <https://creativecommons.org/licenses/by-sa/4.0>, via Wikimedia Commons"
   ]
  },
  {
   "cell_type": "markdown",
   "id": "507af2ea",
   "metadata": {
    "slideshow": {
     "slide_type": "subslide"
    }
   },
   "source": [
    "A dataset is a sequence \n",
    "\n",
    "$$\n",
    "\\begin{align}\n",
    "(\\RM{x}_1,\\R{y}_1),(\\RM{x}_2,\\R{y}_2), \\dots\\tag{dataset}\n",
    "\\end{align}\n",
    "$$\n",
    "\n",
    "of *tuples/instances* $(\\RM{x}_i,\\R{y}_i)$, each of which consists of"
   ]
  },
  {
   "cell_type": "markdown",
   "id": "3bdb1561",
   "metadata": {
    "slideshow": {
     "slide_type": "fragment"
    }
   },
   "source": [
    "- an *input feature vector* $\\RM{x}_i$ such as an image of a handwritten digit and"
   ]
  },
  {
   "cell_type": "markdown",
   "id": "6ae2a357",
   "metadata": {
    "slideshow": {
     "slide_type": "fragment"
    }
   },
   "source": [
    "- a *label* $\\R{y}_i$ such as the digit type of the handwritten digit."
   ]
  },
  {
   "cell_type": "markdown",
   "id": "2f14b2cf",
   "metadata": {
    "slideshow": {
     "slide_type": "fragment"
    }
   },
   "source": [
    "The goal is to classify the digit type of a handwritten digit."
   ]
  },
  {
   "cell_type": "markdown",
   "id": "c67eb518",
   "metadata": {
    "slideshow": {
     "slide_type": "subslide"
    }
   },
   "source": [
    "**How to load the MNIST dataset?**"
   ]
  },
  {
   "cell_type": "markdown",
   "id": "0af0a663",
   "metadata": {
    "hideCode": false,
    "hidePrompt": false,
    "slideshow": {
     "slide_type": "fragment"
    }
   },
   "source": [
    "We first specify the folder to download the data.  \n",
    "Press `Shift+Enter` to evaluate the following cell:"
   ]
  },
  {
   "cell_type": "code",
   "execution_count": null,
   "id": "4ded4066",
   "metadata": {
    "hideCode": false,
    "hidePrompt": false,
    "slideshow": {
     "slide_type": "-"
    }
   },
   "outputs": [],
   "source": [
    "import os\n",
    "\n",
    "user_home = os.getenv(\"HOME\")  # get user home directory\n",
    "data_dir = os.path.join(user_home, \"data\")  # create download folder path\n",
    "\n",
    "data_dir  # show the path"
   ]
  },
  {
   "cell_type": "markdown",
   "id": "d0ef1ac2",
   "metadata": {
    "hideCode": false,
    "hidePrompt": false,
    "slideshow": {
     "slide_type": "subslide"
    }
   },
   "source": [
    "The MNIST dataset can be obtained in many ways due to its popularity in image recognition.  \n",
    "One way is to use the package [`tensorflow_datasets`](https://blog.tensorflow.org/2019/02/introducing-tensorflow-datasets.html)."
   ]
  },
  {
   "cell_type": "code",
   "execution_count": null,
   "id": "ddc4d5d7",
   "metadata": {
    "hideCode": false,
    "hidePrompt": false,
    "slideshow": {
     "slide_type": "-"
    }
   },
   "outputs": [],
   "source": [
    "import tensorflow_datasets as tfds  # give a shorter name tfds for convenience\n",
    "\n",
    "ds, ds_info = tfds.load(\n",
    "    \"mnist\",\n",
    "    data_dir=data_dir,  # download location\n",
    "    as_supervised=True,  # separate input features and label\n",
    "    with_info=True,  # return information of the dataset\n",
    ")\n",
    "\n",
    "ds"
   ]
  },
  {
   "cell_type": "markdown",
   "id": "184e5b30",
   "metadata": {
    "hideCode": false,
    "hidePrompt": false,
    "slideshow": {
     "slide_type": "notes"
    }
   },
   "source": [
    "- The function `tfds.load` downloads the data to `data_dir` and prepare it for loading using variable `ds`.\n",
    "- The data are loaded as [`Tensor`s](https://www.tensorflow.org/guide/tensor), which can be operated faster by GPU or TPU instead of CPU."
   ]
  },
  {
   "cell_type": "markdown",
   "id": "eb444c91",
   "metadata": {
    "hideCode": false,
    "hidePrompt": false,
    "slideshow": {
     "slide_type": "fragment"
    }
   },
   "source": [
    "The dataset is split into \n",
    "- a training set `ds[\"train\"]` and\n",
    "- a test set `ds[\"test\"]`."
   ]
  },
  {
   "cell_type": "markdown",
   "id": "3b06df9f",
   "metadata": {
    "hideCode": false,
    "hidePrompt": false,
    "slideshow": {
     "slide_type": "notes"
    }
   },
   "source": [
    "`tfds.load?` shows more information about the function. E.g., we can control the split ratio using the argument [`split`](https://www.tensorflow.org/datasets/splits)."
   ]
  },
  {
   "cell_type": "markdown",
   "id": "9697c0da",
   "metadata": {
    "hideCode": false,
    "hidePrompt": false,
    "slideshow": {
     "slide_type": "subslide"
    }
   },
   "source": [
    "**Why split the data?**"
   ]
  },
  {
   "cell_type": "markdown",
   "id": "435c9ec3",
   "metadata": {
    "hideCode": false,
    "hidePrompt": false,
    "slideshow": {
     "slide_type": "fragment"
    }
   },
   "source": [
    "The test set is used to evaluate the performance of a neural network trained using the training set (separate from the test set)."
   ]
  },
  {
   "cell_type": "markdown",
   "id": "273cc790",
   "metadata": {
    "hideCode": false,
    "hidePrompt": false,
    "slideshow": {
     "slide_type": "fragment"
    }
   },
   "source": [
    "The purpose of separating the test set from the training set is to avoid *overly-optimistic* performance estimate. Why?"
   ]
  },
  {
   "cell_type": "markdown",
   "id": "e6d5e5d8",
   "metadata": {
    "hideCode": false,
    "hidePrompt": false,
    "slideshow": {
     "slide_type": "fragment"
    }
   },
   "source": [
    "Suppose the final exam questions (test set) are the same as the previous homework questions (training set). \n",
    "- Students may get a high exam score simply by studying the model answers to the homework instead of understanding entire subject.\n",
    "- The exam score is therefore an overly-optimistic estimate of the students' understanding of the subject."
   ]
  },
  {
   "cell_type": "markdown",
   "id": "c5d8f3ac",
   "metadata": {
    "hideCode": false,
    "hidePrompt": false,
    "slideshow": {
     "slide_type": "subslide"
    }
   },
   "source": [
    "**How large are the training set and test set?**"
   ]
  },
  {
   "cell_type": "markdown",
   "id": "2d55bec0",
   "metadata": {
    "hideCode": false,
    "hidePrompt": false,
    "slideshow": {
     "slide_type": "fragment"
    }
   },
   "source": [
    "Both the training and test sets are loaded as [`Dataset` objects](https://www.tensorflow.org/api_docs/python/tf/data/Dataset).\n",
    "- The loading is lazy, i.e., the data is not yet in memory, we cannot count the number of instances directly.  \n",
    "- Instead, we obtain such information from `ds_info`."
   ]
  },
  {
   "cell_type": "markdown",
   "id": "27d0ab3b",
   "metadata": {
    "hideCode": false,
    "hidePrompt": false,
    "slideshow": {
     "slide_type": "subslide"
    }
   },
   "source": [
    "::::{exercise}\n",
    ":label: ex:1\n",
    "\n",
    "Assign to `train_size` and `test_size` the numbers of instances in the training set and test set respectively.\n",
    "\n",
    "Replace `raise NotImplementedError()` in the solution cell by the following code with the blanks filled with the desired numbers:\n",
    "\n",
    "```python\n",
    "train_size = ___\n",
    "test_size = ___\n",
    "```\n",
    ":::{hint}\n",
    ":class: dropdown\n",
    "Right click anywhere in the notebook and select `Create New Console for Notebook`. Then, evaluate \n",
    "- `ds_info` or\n",
    "- `dir(ds_info.splits[\"train\"])` and `dir(ds_info.splits[\"test\"])`\n",
    "\n",
    "to see their attributes. Alternatively,\n",
    "\n",
    "- you may select `Show Contextual Help` and hover the mouse over a piece of code to get its documentation, or\n",
    "- evaluate `ds_info.splits?` or `ds_info.splits??` in a cell.\n",
    ":::\n",
    "\n",
    "::::"
   ]
  },
  {
   "cell_type": "code",
   "execution_count": null,
   "id": "5f73e9dd",
   "metadata": {
    "deletable": false,
    "hideCode": false,
    "hidePrompt": false,
    "nbgrader": {
     "cell_type": "code",
     "checksum": "3fe707e215aaa5fd29874fbde3610c8c",
     "grade": false,
     "grade_id": "sizes",
     "locked": false,
     "schema_version": 3,
     "solution": true,
     "task": false
    },
    "slideshow": {
     "slide_type": "-"
    },
    "tags": [
     "hide-input",
     "remove-output"
    ]
   },
   "outputs": [],
   "source": [
    "# YOUR CODE HERE\n",
    "raise NotImplementedError()\n",
    "train_size, test_size"
   ]
  },
  {
   "cell_type": "code",
   "execution_count": null,
   "id": "62ad2603",
   "metadata": {
    "deletable": false,
    "editable": false,
    "hideCode": false,
    "hideOutput": false,
    "hidePrompt": false,
    "nbgrader": {
     "cell_type": "code",
     "checksum": "a738eb8a4561d039e3a5c78550a8100a",
     "grade": true,
     "grade_id": "test-sizes",
     "locked": true,
     "points": 1,
     "schema_version": 3,
     "solution": false,
     "task": false
    },
    "slideshow": {
     "slide_type": "-"
    },
    "tags": [
     "hide-input",
     "remove-output"
    ]
   },
   "outputs": [],
   "source": [
    "# tests\n",
    "assert 0 < train_size < 100000\n",
    "assert 0 < test_size < 50000\n",
    "# hidden tests will be run to check your answers precisely after submission"
   ]
  },
  {
   "cell_type": "markdown",
   "id": "012f77fe",
   "metadata": {
    "hideCode": false,
    "hidePrompt": false,
    "slideshow": {
     "slide_type": "notes"
    }
   },
   "source": [
    "Note that the training set is often much larger than the test set especially for deep learning because \n",
    "- training a neural network requires many examples but\n",
    "- estimating its performance does not."
   ]
  },
  {
   "cell_type": "markdown",
   "id": "2f623fff",
   "metadata": {
    "hideCode": false,
    "hidePrompt": false,
    "slideshow": {
     "slide_type": "slide"
    }
   },
   "source": [
    "## Data Visualization"
   ]
  },
  {
   "cell_type": "markdown",
   "id": "8066834a",
   "metadata": {
    "hideCode": false,
    "hidePrompt": false,
    "slideshow": {
     "slide_type": "-"
    }
   },
   "source": [
    "The following retrieves an example from the training set."
   ]
  },
  {
   "cell_type": "code",
   "execution_count": null,
   "id": "ab4fd94f",
   "metadata": {
    "hideCode": false,
    "hidePrompt": false,
    "slideshow": {
     "slide_type": "-"
    }
   },
   "outputs": [],
   "source": [
    "for image, label in ds[\"train\"].take(1):\n",
    "    print(\n",
    "        f\"\"\"image dtype: {type(image)} shape: {image.shape} element dtype: {image.dtype}\n",
    "label dtype: {label.dtype}\"\"\"\n",
    "    )"
   ]
  },
  {
   "cell_type": "markdown",
   "id": "f30a4f43",
   "metadata": {
    "hideCode": false,
    "hidePrompt": false,
    "slideshow": {
     "slide_type": "notes"
    }
   },
   "source": [
    "The for loop above takes one example from `ds[\"train\"]` using the method [`take`](https://www.tensorflow.org/api_docs/python/tf/data/Dataset#take) and print its data types. \n",
    "- The handwritten digit is represented by a 28x28x1 [`EagerTensor`](https://www.tensorflow.org/guide/eager), which is essentially a 2D array of bytes (8-bit unsigned integers `uint8`). \n",
    "- The digit type is an integer."
   ]
  },
  {
   "cell_type": "markdown",
   "id": "a8094b52",
   "metadata": {
    "hideCode": false,
    "hidePrompt": false,
    "slideshow": {
     "slide_type": "subslide"
    }
   },
   "source": [
    "The following function plots the image using the `imshow` function from `matplotlib.pyplot`."
   ]
  },
  {
   "cell_type": "code",
   "execution_count": null,
   "id": "822bfecb",
   "metadata": {
    "hideCode": false,
    "hidePrompt": false,
    "slideshow": {
     "slide_type": "-"
    }
   },
   "outputs": [],
   "source": [
    "import matplotlib.pyplot as plt\n",
    "\n",
    "plt.figure(num=1)\n",
    "for image, label in ds[\"train\"].take(1):  # take 1 example from training set\n",
    "    plt.imshow(image)\n",
    "    plt.title(label.numpy())  # show digit type as plot title\n",
    "plt.show()"
   ]
  },
  {
   "cell_type": "markdown",
   "id": "4c55ce68",
   "metadata": {
    "hideCode": false,
    "hidePrompt": false,
    "slideshow": {
     "slide_type": "notes"
    }
   },
   "source": [
    "- The method `numpy()` is needed to convert the label to the correct integer type for `matplotlib`."
   ]
  },
  {
   "cell_type": "markdown",
   "id": "6845586e",
   "metadata": {
    "hideCode": false,
    "hidePrompt": false,
    "slideshow": {
     "slide_type": "subslide"
    }
   },
   "source": [
    "The following function plots the image properly in grayscale labeled by pixel values:"
   ]
  },
  {
   "cell_type": "code",
   "execution_count": null,
   "id": "19bbe7f3",
   "metadata": {
    "hideCode": false,
    "hidePrompt": false,
    "slideshow": {
     "slide_type": "-"
    },
    "tags": [
     "remove-output"
    ]
   },
   "outputs": [],
   "source": [
    "def plot_mnist_image(example, ax=None, pixel_format=None):\n",
    "    (image, label) = example\n",
    "    if ax == None:\n",
    "        ax = plt.gca()\n",
    "    ax.imshow(image, cmap=\"gray_r\")  # show image\n",
    "    ax.title.set_text(label.numpy())  # show digit type as plot title\n",
    "    # Major ticks\n",
    "    ax.set_xticks(np.arange(0, 28, 3))\n",
    "    ax.set_yticks(np.arange(0, 28, 3))\n",
    "    # Minor ticks\n",
    "    ax.set_xticks(np.arange(-0.5, 28, 1), minor=True)\n",
    "    ax.set_yticks(np.arange(-0.5, 28, 1), minor=True)\n",
    "    if pixel_format is not None:\n",
    "        for i in range(28):\n",
    "            for j in range(28):\n",
    "                ax.text(\n",
    "                    j,\n",
    "                    i,\n",
    "                    pixel_format.format(image[i, j, 0].numpy()),  # show pixel value\n",
    "                    va=\"center\",\n",
    "                    ha=\"center\",\n",
    "                    color=\"white\",\n",
    "                    fontweight=\"bold\",\n",
    "                    fontsize=\"small\",\n",
    "                )\n",
    "        ax.grid(color=\"lightblue\", linestyle=\"-\", linewidth=1, which=\"minor\")\n",
    "        ax.set_xlabel(\"2nd dimension\")\n",
    "        ax.set_ylabel(\"1st dimension\")\n",
    "        ax.title.set_text(\"Image with label \" + ax.title.get_text())\n",
    "\n",
    "\n",
    "plt.figure(num=2)\n",
    "for example in ds[\"train\"].take(1):\n",
    "    plot_mnist_image(example, pixel_format=\"{}\")\n",
    "plt.show()"
   ]
  },
  {
   "cell_type": "markdown",
   "id": "24221216",
   "metadata": {
    "hideCode": false,
    "hidePrompt": false,
    "slideshow": {
     "slide_type": "notes"
    }
   },
   "source": [
    "- We set the parameter `cmap` to `gray_r` so the color is darker if the pixel value is larger."
   ]
  },
  {
   "cell_type": "markdown",
   "id": "ee2377fb",
   "metadata": {
    "deletable": false,
    "editable": false,
    "hideCode": false,
    "hidePrompt": false,
    "nbgrader": {
     "cell_type": "markdown",
     "checksum": "a2b005d92aba5efc7800bcdfead946e2",
     "grade": false,
     "grade_id": "check-plot_mnist_image_matrix",
     "locked": true,
     "points": 1,
     "schema_version": 3,
     "solution": false,
     "task": true
    },
    "slideshow": {
     "slide_type": "subslide"
    }
   },
   "source": [
    "::::{exercise}\n",
    ":label: ex:2\n",
    "Complete the following code to generate a matrix plot of the first 50 examples from the training sets.  \n",
    "The parameter `nrows` and `ncols` specify the number of rows and columns respectively.\n",
    "\n",
    ":::{hint}\n",
    ":class: dropdown\n",
    "\n",
    "You code may look like\n",
    "```python\n",
    "...\n",
    "        for ax, example in zip(axes.flat, ds[\"train\"].____(nrows * ncols)):\n",
    "            plot_mnist_image(_______, ax)\n",
    "            ax.axes.xaxis.set_visible(False)\n",
    "            ax.axes.yaxis.set_visible(False)\n",
    "...\n",
    "```\n",
    "and the output image should look like\n",
    "![mnist_examples](mnist_examples.svg)\n",
    ":::\n",
    "\n",
    "::::"
   ]
  },
  {
   "cell_type": "code",
   "execution_count": null,
   "id": "14b926f9",
   "metadata": {
    "deletable": false,
    "hideCode": false,
    "hideOutput": false,
    "hidePrompt": false,
    "nbgrader": {
     "cell_type": "code",
     "checksum": "1033825c8307bca2d10fcac5e94857ba",
     "grade": false,
     "grade_id": "plot_mnist_image_matrix",
     "locked": false,
     "schema_version": 3,
     "solution": true,
     "task": false
    },
    "slideshow": {
     "slide_type": "-"
    },
    "tags": [
     "remove-output"
    ]
   },
   "outputs": [],
   "source": [
    "if input(\"Execute? [Y/n]\").lower != \"n\":\n",
    "\n",
    "    def plot_mnist_image_matrix(ds, nrows=5, ncols=10, **args):\n",
    "        fig, axes = plt.subplots(nrows=nrows, ncols=ncols, **args)\n",
    "\n",
    "        # YOUR CODE HERE\n",
    "        raise NotImplementedError()\n",
    "\n",
    "        fig.tight_layout()  # adjust spacing between subplots automatically\n",
    "        return fig, axes\n",
    "\n",
    "    fig, axes = plot_mnist_image_matrix(ds, nrows=5, num=3, figsize=(9, 6))\n",
    "    # plt.savefig('mnist_examples.svg')\n",
    "    plt.show()"
   ]
  },
  {
   "cell_type": "markdown",
   "id": "8f7d4f23",
   "metadata": {
    "hideCode": false,
    "hidePrompt": false,
    "slideshow": {
     "slide_type": "subslide"
    }
   },
   "source": [
    "## Data Preprocessing"
   ]
  },
  {
   "cell_type": "markdown",
   "id": "4a400b31",
   "metadata": {
    "hideCode": false,
    "hidePrompt": false,
    "slideshow": {
     "slide_type": "-"
    }
   },
   "source": [
    "We will use the [`tensorflow`](https://www.tensorflow.org/) library to process the data and train the neural network. (Another popular library is [PyTorch](https://pytorch.org/).)"
   ]
  },
  {
   "cell_type": "code",
   "execution_count": null,
   "id": "75bc88d3",
   "metadata": {
    "hideCode": false,
    "hidePrompt": false,
    "slideshow": {
     "slide_type": "-"
    }
   },
   "outputs": [],
   "source": [
    "import tensorflow.compat.v2 as tf  # explicitly use tensorflow version 2"
   ]
  },
  {
   "cell_type": "markdown",
   "id": "4cf5b5ab",
   "metadata": {
    "hideCode": false,
    "hidePrompt": false,
    "slideshow": {
     "slide_type": "fragment"
    }
   },
   "source": [
    "Each pixel is stored as an integer from $\\{0,\\dots,255\\}$ ($2^8$ possible values). However, for computations by the neural network, we need to convert it to a floating point number. We will also normalize each pixel value to be within the unit interval $[0,1]$:\n",
    "\n",
    "$$\n",
    "\\begin{align} \n",
    "v \\mapsto \\frac{v - v_{\\min}}{v_{\\max} - v_{\\min}} = \\frac{v}{255}\\tag{min-max normalization}\n",
    "\\end{align}\n",
    "$$"
   ]
  },
  {
   "cell_type": "markdown",
   "id": "9a103d96",
   "metadata": {
    "slideshow": {
     "slide_type": "-"
    }
   },
   "source": [
    "![mnist_example](mnist_example_normalized.svg)"
   ]
  },
  {
   "cell_type": "markdown",
   "id": "eea24183",
   "metadata": {
    "hideCode": false,
    "hidePrompt": false,
    "slideshow": {
     "slide_type": "subslide"
    }
   },
   "source": [
    "::::{exercise}\n",
    ":label: ex:3\n",
    "Using the function `map`, normalize each element of an image to the unit interval $[0,1]$ after converting them to `tf.float32` using [`tf.cast`](https://www.tensorflow.org/api_docs/python/tf/cast).\n",
    "\n",
    ":::{hint}\n",
    ":class: dropdown\n",
    "\n",
    "Your code may look like\n",
    "```python\n",
    "...\n",
    "        ds_n[part] = ds[part].map(\n",
    "                    lambda image, label: (_____(image, _____) / ___, label),\n",
    "                    num_parallel_calls=tf.data.experimental.AUTOTUNE)\n",
    "...\n",
    "```\n",
    "`map` applies the conversion to each example in the dataset.\n",
    ":::\n",
    "::::"
   ]
  },
  {
   "cell_type": "code",
   "execution_count": null,
   "id": "c64e7bf1",
   "metadata": {
    "deletable": false,
    "hideCode": false,
    "hidePrompt": false,
    "nbgrader": {
     "cell_type": "code",
     "checksum": "89cd38feaef3122e8700a99af62c1680",
     "grade": false,
     "grade_id": "normalize",
     "locked": false,
     "schema_version": 3,
     "solution": true,
     "task": false
    },
    "slideshow": {
     "slide_type": "-"
    }
   },
   "outputs": [],
   "source": [
    "def normalize_mnist(ds):\n",
    "    \"\"\"\n",
    "    Returns:\n",
    "    MNIST Dataset with image pixel values normalized to float32 in [0,1].\n",
    "    \"\"\"\n",
    "    ds_n = dict.fromkeys(ds.keys())  # initialize the normalized dataset\n",
    "    for part in ds.keys():\n",
    "        # normalize pixel values to [0,1]\n",
    "        # YOUR CODE HERE\n",
    "        raise NotImplementedError()\n",
    "    return ds_n\n",
    "\n",
    "\n",
    "ds_n = normalize_mnist(ds)\n",
    "ds_n"
   ]
  },
  {
   "cell_type": "code",
   "execution_count": null,
   "id": "916a9e5d",
   "metadata": {
    "slideshow": {
     "slide_type": "skip"
    },
    "tags": [
     "remove-output"
    ]
   },
   "outputs": [],
   "source": [
    "# Plot the normalized digit\n",
    "if input(\"Execute? [Y/n]\").lower != \"n\":\n",
    "    plt.figure(figsize=(11, 11), dpi=80)\n",
    "    for example in ds_n[\"train\"].take(1):\n",
    "        plot_mnist_image(example, pixel_format=\"{:.2f}\")  # show pixel value to 2 d.p.s\n",
    "    # plt.savefig('mnist_example_normalized.svg')\n",
    "    plt.show()"
   ]
  },
  {
   "cell_type": "code",
   "execution_count": null,
   "id": "0d16b4fa",
   "metadata": {
    "deletable": false,
    "editable": false,
    "hideCode": false,
    "hidePrompt": false,
    "nbgrader": {
     "cell_type": "code",
     "checksum": "5de663ce934246c44d594b613ff472f8",
     "grade": true,
     "grade_id": "test-normalize",
     "locked": true,
     "points": 1,
     "schema_version": 3,
     "solution": false,
     "task": false
    },
    "slideshow": {
     "slide_type": "skip"
    },
    "tags": [
     "remove-output"
    ]
   },
   "outputs": [],
   "source": [
    "# tests"
   ]
  },
  {
   "cell_type": "markdown",
   "id": "b9fc1290",
   "metadata": {
    "hideCode": false,
    "hidePrompt": false,
    "slideshow": {
     "slide_type": "subslide"
    }
   },
   "source": [
    "To avoid overfitting, the training of a neural network uses *stochastic gradient descent* which\n",
    "- divides the training into many steps where\n",
    "- each step uses a *randomly* selected minibatch of samples \n",
    "- to improve the neural network *bit-by-bit*."
   ]
  },
  {
   "cell_type": "code",
   "execution_count": null,
   "id": "c3d034bc",
   "metadata": {
    "hideCode": false,
    "hidePrompt": false,
    "slideshow": {
     "slide_type": "-"
    }
   },
   "outputs": [],
   "source": [
    "def batch_mnist(ds_n):\n",
    "    ds_b = dict.fromkeys(ds_n.keys())  # initialize the batched dataset\n",
    "    for part in ds_n.keys():\n",
    "        ds_b[part] = (\n",
    "            ds_n[part]\n",
    "            .batch(128)  # Use a minibatch of examples for each training step\n",
    "            .shuffle(\n",
    "                ds_info.splits[part].num_examples, reshuffle_each_iteration=True\n",
    "            )  # shuffle data for each epoch\n",
    "            .cache()  # cache current elements\n",
    "            .prefetch(tf.data.experimental.AUTOTUNE)\n",
    "        )  # preload subsequent elements\n",
    "    return ds_b\n",
    "\n",
    "\n",
    "ds_b = batch_mnist(ds_n)\n",
    "ds_b"
   ]
  },
  {
   "cell_type": "markdown",
   "id": "424836db",
   "metadata": {
    "hideCode": false,
    "hidePrompt": false,
    "slideshow": {
     "slide_type": "notes"
    }
   },
   "source": [
    "The above code \n",
    "- specifies the batch size (128) and \n",
    "- enables caching and prefetching to reduce the latency in loading examples repeatedly for training and testing."
   ]
  },
  {
   "cell_type": "markdown",
   "id": "7dde5129",
   "metadata": {
    "hideCode": false,
    "hidePrompt": false,
    "slideshow": {
     "slide_type": "subslide"
    }
   },
   "source": [
    "::::{exercise}\n",
    ":label: ex:4\n",
    "The output to the above cell should look like\n",
    "```python\n",
    "{'test': <PrefetchDataset shapes: ((None, 28, 28, 1), (None,)), types: (tf.float32, tf.int64)>,\n",
    " 'train': <PrefetchDataset shapes: ((None, 28, 28, 1), (None,)), types: (tf.float32, tf.int64)>}\n",
    "```\n",
    "with a new first dimension of unknown size `None`. Why?\n",
    "\n",
    ":::{hint}\n",
    ":class: dropdown\n",
    "Is the total number of examples divisible by the batch sizs?\n",
    ":::\n",
    "::::"
   ]
  },
  {
   "cell_type": "markdown",
   "id": "a97dbbba",
   "metadata": {
    "deletable": false,
    "hideCode": false,
    "hidePrompt": false,
    "nbgrader": {
     "cell_type": "markdown",
     "checksum": "3e776f9d0a83c8d12eb4fe6c9aff182e",
     "grade": true,
     "grade_id": "batch",
     "locked": false,
     "points": 1,
     "schema_version": 3,
     "solution": true,
     "task": false
    },
    "slideshow": {
     "slide_type": "-"
    }
   },
   "source": [
    "YOUR ANSWER HERE"
   ]
  },
  {
   "cell_type": "markdown",
   "id": "28f6acb8",
   "metadata": {
    "slideshow": {
     "slide_type": "slide"
    }
   },
   "source": [
    "## Release Memory"
   ]
  },
  {
   "cell_type": "markdown",
   "id": "eecf8698",
   "metadata": {},
   "source": [
    "You cannot run a notebook if you have insufficient memory. It is important to shut down a notebook to release the memory:  \n",
    "- `Kernel`->`Shut Down Kernel`."
   ]
  },
  {
   "cell_type": "markdown",
   "id": "bef67966",
   "metadata": {
    "slideshow": {
     "slide_type": "fragment"
    }
   },
   "source": [
    "::::{seealso}\n",
    "The JupyterLab interface has many [tools](https://jupyterlab.readthedocs.io/en/stable/user/running.html) to help you monitor your memory consumption.\n",
    "::::"
   ]
  }
 ],
 "metadata": {
  "kernelspec": {
   "display_name": "Python 3 (ipykernel)",
   "language": "python",
   "name": "python3"
  }
 },
 "nbformat": 4,
 "nbformat_minor": 5
}
