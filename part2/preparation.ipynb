{
 "cells": [
  {
   "cell_type": "markdown",
   "id": "68b1c9cb",
   "metadata": {
    "editable": true,
    "slideshow": {
     "slide_type": ""
    },
    "tags": [
     "remove-cell"
    ]
   },
   "source": [
    "---\n",
    "title: Data Preparation\n",
    "math: \n",
    "    '\\abs': '\\left\\lvert #1 \\right\\rvert' \n",
    "    '\\norm': '\\left\\lvert #1 \\right\\rvert' \n",
    "    '\\Set': '\\left\\{ #1 \\right\\}'\n",
    "    '\\mc': '\\mathcal{#1}'\n",
    "    '\\M': '\\boldsymbol{#1}'\n",
    "    '\\R': '\\mathsf{#1}'\n",
    "    '\\RM': '\\boldsymbol{\\mathsf{#1}}'\n",
    "    '\\op': '\\operatorname{#1}'\n",
    "    '\\E': '\\op{E}'\n",
    "    '\\d': '\\mathrm{\\mathstrut d}'\n",
    "---"
   ]
  },
  {
   "cell_type": "markdown",
   "id": "cf8f0245",
   "metadata": {
    "editable": true,
    "hideCode": false,
    "hidePrompt": false,
    "slideshow": {
     "slide_type": "-"
    },
    "tags": [
     "remove-cell"
    ]
   },
   "source": [
    "**DIVE into Deep Learning**\n",
    "___"
   ]
  },
  {
   "cell_type": "markdown",
   "id": "0f7ad8b3",
   "metadata": {
    "editable": true,
    "hideCode": false,
    "hidePrompt": false,
    "slideshow": {
     "slide_type": "slide"
    },
    "tags": []
   },
   "source": [
    "## Loading Data"
   ]
  },
  {
   "cell_type": "markdown",
   "id": "c752cdf3",
   "metadata": {
    "slideshow": {
     "slide_type": "subslide"
    }
   },
   "source": [
    "**What is an example in a dataset?**"
   ]
  },
  {
   "cell_type": "markdown",
   "id": "f37ae15a",
   "metadata": {
    "slideshow": {
     "slide_type": "-"
    }
   },
   "source": [
    "A neural network learns from many examples collected together as a *dataset*. For instance, the [MNIST (Modified National Institute of Standards and Technology)](https://en.wikipedia.org/wiki/MNIST_database) dataset consists of labeled handwritten digits.$\\def\\abs#1{\\left\\lvert #1 \\right\\rvert}\n",
    "\\def\\Set#1{\\left\\{ #1 \\right\\}}\n",
    "\\def\\mc#1{\\mathcal{#1}}\n",
    "\\def\\M#1{\\boldsymbol{#1}}\n",
    "\\def\\R#1{\\mathsf{#1}}\n",
    "\\def\\RM#1{\\boldsymbol{\\mathsf{#1}}}\n",
    "\\def\\op#1{\\operatorname{#1}}\n",
    "\\def\\E{\\op{E}}\n",
    "\\def\\d{\\mathrm{\\mathstrut d}}\n",
    "$"
   ]
  },
  {
   "cell_type": "markdown",
   "id": "6671d8d6",
   "metadata": {
    "editable": true,
    "slideshow": {
     "slide_type": ""
    },
    "tags": []
   },
   "source": [
    "::::{figure} https://upload.wikimedia.org/wikipedia/commons/2/27/MnistExamples.png\n",
    ":name: fig:MnistExamples\n",
    ":alt: Mnist examples\n",
    ":align: left\n",
    "Mnist examples[^license]\n",
    "::::\n",
    "\n",
    "[^license]: Josef Steppan, CC BY-SA 4.0 <https://creativecommons.org/licenses/by-sa/4.0>, via Wikimedia Commons"
   ]
  },
  {
   "cell_type": "markdown",
   "id": "5d4316d8",
   "metadata": {
    "editable": true,
    "slideshow": {
     "slide_type": "subslide"
    },
    "tags": []
   },
   "source": [
    "A dataset is a sequence \n",
    "\n",
    "$$\n",
    "\\begin{align}\n",
    "(\\RM{x}_1,\\R{y}_1),(\\RM{x}_2,\\R{y}_2), \\dots\\tag{dataset}\n",
    "\\end{align}\n",
    "$$\n",
    "\n",
    "of *tuples/instances* $(\\RM{x}_i,\\R{y}_i)$, each of which consists of"
   ]
  },
  {
   "cell_type": "markdown",
   "id": "9721857c",
   "metadata": {
    "slideshow": {
     "slide_type": "fragment"
    }
   },
   "source": [
    "- an *input feature vector* $\\RM{x}_i$ such as an image of a handwritten digit and"
   ]
  },
  {
   "cell_type": "markdown",
   "id": "e88d859e",
   "metadata": {
    "slideshow": {
     "slide_type": "fragment"
    }
   },
   "source": [
    "- a *label* $\\R{y}_i$ such as the digit type of the handwritten digit."
   ]
  },
  {
   "cell_type": "markdown",
   "id": "c08eac5a",
   "metadata": {
    "slideshow": {
     "slide_type": "fragment"
    }
   },
   "source": [
    "The goal is to classify the digit type of a handwritten digit."
   ]
  },
  {
   "cell_type": "markdown",
   "id": "2e5b2d7d",
   "metadata": {
    "slideshow": {
     "slide_type": "subslide"
    }
   },
   "source": [
    "**How to load the MNIST dataset?**"
   ]
  },
  {
   "cell_type": "markdown",
   "id": "0a768a02",
   "metadata": {
    "hideCode": false,
    "hidePrompt": false,
    "slideshow": {
     "slide_type": "fragment"
    }
   },
   "source": [
    "We first specify the folder to download the data.  \n",
    "Press `Shift+Enter` to evaluate the following cell:"
   ]
  },
  {
   "cell_type": "code",
   "execution_count": null,
   "id": "a2f09cfe",
   "metadata": {
    "editable": true,
    "hideCode": false,
    "hidePrompt": false,
    "slideshow": {
     "slide_type": "-"
    },
    "tags": []
   },
   "outputs": [],
   "source": [
    "import os\n",
    "\n",
    "user_home = os.getenv(\"HOME\")  # get user home directory\n",
    "data_dir = os.path.join(user_home, \"data\")  # create download folder path\n",
    "\n",
    "data_dir  # show the path"
   ]
  },
  {
   "cell_type": "markdown",
   "id": "88a676c4",
   "metadata": {
    "editable": true,
    "hideCode": false,
    "hidePrompt": false,
    "slideshow": {
     "slide_type": "subslide"
    },
    "tags": []
   },
   "source": [
    "The MNIST dataset can be obtained in many ways due to its popularity in image recognition.  \n",
    "One way is to use the package [`tensorflow_datasets`](https://blog.tensorflow.org/2019/02/introducing-tensorflow-datasets.html)."
   ]
  },
  {
   "cell_type": "code",
   "execution_count": null,
   "id": "9ebc7558",
   "metadata": {
    "editable": true,
    "hideCode": false,
    "hidePrompt": false,
    "slideshow": {
     "slide_type": "-"
    },
    "tags": []
   },
   "outputs": [],
   "source": [
    "import tensorflow_datasets as tfds  # give a shorter name tfds for convenience\n",
    "\n",
    "ds, ds_info = tfds.load(\n",
    "    \"mnist\",\n",
    "    data_dir=data_dir,  # download location\n",
    "    as_supervised=True,  # separate input features and label\n",
    "    with_info=True,  # return information of the dataset\n",
    ")\n",
    "\n",
    "ds"
   ]
  },
  {
   "cell_type": "markdown",
   "id": "987b4730",
   "metadata": {
    "editable": true,
    "hideCode": false,
    "hidePrompt": false,
    "slideshow": {
     "slide_type": "notes"
    },
    "tags": []
   },
   "source": [
    "- The function `tfds.load` downloads the data to `data_dir` and prepare it for loading using variable `ds`.\n",
    "- The data are loaded as [`Tensor`s](https://www.tensorflow.org/guide/tensor), which can be operated faster by GPU or TPU instead of CPU."
   ]
  },
  {
   "cell_type": "markdown",
   "id": "e2fe5a84",
   "metadata": {
    "editable": true,
    "hideCode": false,
    "hidePrompt": false,
    "slideshow": {
     "slide_type": "fragment"
    },
    "tags": []
   },
   "source": [
    "The dataset is split into \n",
    "- a training set `ds[\"train\"]` and\n",
    "- a test set `ds[\"test\"]`."
   ]
  },
  {
   "cell_type": "markdown",
   "id": "f4c035ac",
   "metadata": {
    "editable": true,
    "hideCode": false,
    "hidePrompt": false,
    "slideshow": {
     "slide_type": "notes"
    },
    "tags": []
   },
   "source": [
    "`tfds.load?` shows more information about the function. E.g., we can control the split ratio using the argument [`split`](https://www.tensorflow.org/datasets/splits)."
   ]
  },
  {
   "cell_type": "markdown",
   "id": "2c8101db",
   "metadata": {
    "editable": true,
    "hideCode": false,
    "hidePrompt": false,
    "slideshow": {
     "slide_type": "subslide"
    },
    "tags": []
   },
   "source": [
    "**Why split the data?**"
   ]
  },
  {
   "cell_type": "markdown",
   "id": "53aaf331",
   "metadata": {
    "editable": true,
    "hideCode": false,
    "hidePrompt": false,
    "slideshow": {
     "slide_type": "fragment"
    },
    "tags": []
   },
   "source": [
    "The test set is used to evaluate the performance of a neural network trained using the training set (separate from the test set)."
   ]
  },
  {
   "cell_type": "markdown",
   "id": "fe337468",
   "metadata": {
    "editable": true,
    "hideCode": false,
    "hidePrompt": false,
    "slideshow": {
     "slide_type": "fragment"
    },
    "tags": []
   },
   "source": [
    "The purpose of separating the test set from the training set is to avoid *overly-optimistic* performance estimate. Why?"
   ]
  },
  {
   "cell_type": "markdown",
   "id": "05929044",
   "metadata": {
    "editable": true,
    "hideCode": false,
    "hidePrompt": false,
    "slideshow": {
     "slide_type": "fragment"
    },
    "tags": []
   },
   "source": [
    "Suppose the final exam questions (test set) are the same as the previous homework questions (training set). \n",
    "- Students may get a high exam score simply by studying the model answers to the homework instead of understanding entire subject.\n",
    "- The exam score is therefore an overly-optimistic estimate of the students' understanding of the subject."
   ]
  },
  {
   "cell_type": "markdown",
   "id": "07eaabde",
   "metadata": {
    "editable": true,
    "hideCode": false,
    "hidePrompt": false,
    "slideshow": {
     "slide_type": "subslide"
    },
    "tags": []
   },
   "source": [
    "**How large are the training set and test set?**"
   ]
  },
  {
   "cell_type": "markdown",
   "id": "9272dcfb",
   "metadata": {
    "editable": true,
    "hideCode": false,
    "hidePrompt": false,
    "slideshow": {
     "slide_type": "fragment"
    },
    "tags": []
   },
   "source": [
    "Both the training and test sets are loaded as [`Dataset` objects](https://www.tensorflow.org/api_docs/python/tf/data/Dataset).\n",
    "- The loading is lazy, i.e., the data is not yet in memory, we cannot count the number of instances directly.  \n",
    "- Instead, we obtain such information from `ds_info`."
   ]
  },
  {
   "cell_type": "markdown",
   "id": "9caa0a9d",
   "metadata": {
    "editable": true,
    "hideCode": false,
    "hidePrompt": false,
    "slideshow": {
     "slide_type": "subslide"
    },
    "tags": []
   },
   "source": [
    "::::{exercise}\n",
    ":label: ex:prep:1\n",
    "\n",
    "Assign to `train_size` and `test_size` the numbers of instances in the training set and test set respectively.\n",
    "\n",
    "Replace `raise NotImplementedError()` in the solution cell by the following code with the blanks filled with the desired numbers:\n",
    "\n",
    "```python\n",
    "train_size = ___\n",
    "test_size = ___\n",
    "```\n",
    ":::{hint}\n",
    ":class: dropdown\n",
    "Right click anywhere in the notebook and select `Create New Console for Notebook`. Then, evaluate \n",
    "- `ds_info` or\n",
    "- `dir(ds_info.splits[\"train\"])` and `dir(ds_info.splits[\"test\"])`\n",
    "\n",
    "to see their attributes. Alternatively,\n",
    "\n",
    "- you may select `Show Contextual Help` and hover the mouse over a piece of code to get its documentation, or\n",
    "- evaluate `ds_info.splits?` or `ds_info.splits??` in a cell.\n",
    ":::\n",
    "\n",
    "::::"
   ]
  },
  {
   "cell_type": "code",
   "execution_count": null,
   "id": "1d425b00",
   "metadata": {
    "deletable": false,
    "editable": true,
    "hideCode": false,
    "hidePrompt": false,
    "nbgrader": {
     "cell_type": "code",
     "checksum": "1e176dadf78b523f3450a39e23e76d52",
     "grade": false,
     "grade_id": "sizes",
     "locked": false,
     "schema_version": 3,
     "solution": true,
     "task": false
    },
    "slideshow": {
     "slide_type": "-"
    },
    "tags": [
     "hide-cell",
     "skip-execution"
    ]
   },
   "outputs": [],
   "source": [
    "# YOUR CODE HERE\n",
    "raise NotImplementedError\n",
    "train_size, test_size"
   ]
  },
  {
   "cell_type": "code",
   "execution_count": null,
   "id": "0357a24a",
   "metadata": {
    "deletable": false,
    "editable": false,
    "hideCode": false,
    "hideOutput": false,
    "hidePrompt": false,
    "nbgrader": {
     "cell_type": "code",
     "checksum": "a738eb8a4561d039e3a5c78550a8100a",
     "grade": true,
     "grade_id": "test-sizes",
     "locked": true,
     "points": 1,
     "schema_version": 3,
     "solution": false,
     "task": false
    },
    "slideshow": {
     "slide_type": "-"
    },
    "tags": [
     "hide-input",
     "remove-output",
     "skip-execution"
    ]
   },
   "outputs": [],
   "source": [
    "# tests\n",
    "assert 0 < train_size < 100000\n",
    "assert 0 < test_size < 50000\n",
    "# hidden tests will be run to check your answers precisely after submission"
   ]
  },
  {
   "cell_type": "markdown",
   "id": "4611a299",
   "metadata": {
    "editable": true,
    "hideCode": false,
    "hidePrompt": false,
    "slideshow": {
     "slide_type": "notes"
    },
    "tags": []
   },
   "source": [
    "Note that the training set is often much larger than the test set especially for deep learning because \n",
    "- training a neural network requires many examples but\n",
    "- estimating its performance does not."
   ]
  },
  {
   "cell_type": "markdown",
   "id": "92011d12",
   "metadata": {
    "editable": true,
    "hideCode": false,
    "hidePrompt": false,
    "slideshow": {
     "slide_type": "slide"
    },
    "tags": []
   },
   "source": [
    "## Data Visualization"
   ]
  },
  {
   "cell_type": "markdown",
   "id": "cb05e800",
   "metadata": {
    "editable": true,
    "hideCode": false,
    "hidePrompt": false,
    "slideshow": {
     "slide_type": "-"
    },
    "tags": []
   },
   "source": [
    "The following retrieves an example from the training set."
   ]
  },
  {
   "cell_type": "code",
   "execution_count": null,
   "id": "d8358b74",
   "metadata": {
    "editable": true,
    "hideCode": false,
    "hidePrompt": false,
    "slideshow": {
     "slide_type": "-"
    },
    "tags": [
     "skip-execution"
    ]
   },
   "outputs": [],
   "source": [
    "for image, label in ds[\"train\"].take(1):\n",
    "    print(\n",
    "        f\"\"\"image dtype: {type(image)} shape: {image.shape} element dtype: {image.dtype}\n",
    "label dtype: {label.dtype}\"\"\"\n",
    "    )"
   ]
  },
  {
   "cell_type": "markdown",
   "id": "a44a8098",
   "metadata": {
    "editable": true,
    "hideCode": false,
    "hidePrompt": false,
    "slideshow": {
     "slide_type": "notes"
    },
    "tags": []
   },
   "source": [
    "The for loop above takes one example from `ds[\"train\"]` using the method [`take`](https://www.tensorflow.org/api_docs/python/tf/data/Dataset#take) and print its data types. \n",
    "- The handwritten digit is represented by a 28x28x1 [`EagerTensor`](https://www.tensorflow.org/guide/eager), which is essentially a 2D array of bytes (8-bit unsigned integers `uint8`). \n",
    "- The digit type is an integer."
   ]
  },
  {
   "cell_type": "markdown",
   "id": "374c2cdc",
   "metadata": {
    "editable": true,
    "hideCode": false,
    "hidePrompt": false,
    "slideshow": {
     "slide_type": "subslide"
    },
    "tags": []
   },
   "source": [
    "The following function plots the image using the `imshow` function from `matplotlib.pyplot`."
   ]
  },
  {
   "cell_type": "code",
   "execution_count": null,
   "id": "e26a738a",
   "metadata": {
    "editable": true,
    "hideCode": false,
    "hidePrompt": false,
    "slideshow": {
     "slide_type": "-"
    },
    "tags": [
     "skip-execution"
    ]
   },
   "outputs": [],
   "source": [
    "import matplotlib.pyplot as plt\n",
    "\n",
    "%matplotlib widget\n",
    "\n",
    "fig_name = \"MNIST image\"\n",
    "plt.close(fig_name)\n",
    "plt.figure(fig_name)\n",
    "for image, label in ds[\"train\"].take(1):  # take 1 example from training set\n",
    "    plt.imshow(image)\n",
    "    plt.title(label.numpy())  # show digit type as plot title\n",
    "plt.show()"
   ]
  },
  {
   "cell_type": "markdown",
   "id": "b199b8c8",
   "metadata": {
    "editable": true,
    "hideCode": false,
    "hidePrompt": false,
    "slideshow": {
     "slide_type": "notes"
    },
    "tags": []
   },
   "source": [
    "- The method `numpy()` is needed to convert the label to the correct integer type for `matplotlib`."
   ]
  },
  {
   "cell_type": "markdown",
   "id": "eb8ca860",
   "metadata": {
    "editable": true,
    "hideCode": false,
    "hidePrompt": false,
    "slideshow": {
     "slide_type": "subslide"
    },
    "tags": []
   },
   "source": [
    "The following function plots the image properly in grayscale labeled by pixel values:"
   ]
  },
  {
   "cell_type": "code",
   "execution_count": null,
   "id": "a07ed428",
   "metadata": {
    "editable": true,
    "hideCode": false,
    "hidePrompt": false,
    "slideshow": {
     "slide_type": "-"
    },
    "tags": [
     "skip-execution"
    ]
   },
   "outputs": [],
   "source": [
    "import numpy as np\n",
    "\n",
    "\n",
    "def plot_mnist_image(example, ax=None, pixel_format=None):\n",
    "    (image, label) = example\n",
    "    if ax == None:\n",
    "        ax = plt.gca()\n",
    "    ax.imshow(image, cmap=\"gray_r\")  # show image\n",
    "    ax.title.set_text(label.numpy())  # show digit type as plot title\n",
    "    # Major ticks\n",
    "    ax.set_xticks(np.arange(0, 28, 3))\n",
    "    ax.set_yticks(np.arange(0, 28, 3))\n",
    "    # Minor ticks\n",
    "    ax.set_xticks(np.arange(-0.5, 28, 1), minor=True)\n",
    "    ax.set_yticks(np.arange(-0.5, 28, 1), minor=True)\n",
    "    if pixel_format is not None:\n",
    "        for i in range(28):\n",
    "            for j in range(28):\n",
    "                ax.text(\n",
    "                    j,\n",
    "                    i,\n",
    "                    pixel_format.format(image[i, j, 0].numpy()),  # show pixel value\n",
    "                    va=\"center\",\n",
    "                    ha=\"center\",\n",
    "                    color=\"white\",\n",
    "                    fontweight=\"bold\",\n",
    "                    fontsize=\"small\",\n",
    "                )\n",
    "        ax.grid(color=\"lightblue\", linestyle=\"-\", linewidth=1, which=\"minor\")\n",
    "        ax.set_xlabel(\"2nd dimension\")\n",
    "        ax.set_ylabel(\"1st dimension\")\n",
    "        ax.title.set_text(\"Image with label \" + ax.title.get_text())\n",
    "\n",
    "\n",
    "fig_name = \"MNIST image pixels\"\n",
    "plt.close(fig_name)\n",
    "plt.figure(num=fig_name, figsize=(11, 11), dpi=80)\n",
    "for example in ds[\"train\"].take(1):\n",
    "    plot_mnist_image(example, pixel_format=\"{}\")\n",
    "plt.show()"
   ]
  },
  {
   "cell_type": "markdown",
   "id": "db3ab53c",
   "metadata": {
    "editable": true,
    "hideCode": false,
    "hidePrompt": false,
    "slideshow": {
     "slide_type": "notes"
    },
    "tags": []
   },
   "source": [
    "- We set the parameter `cmap` to `gray_r` so the color is darker if the pixel value is larger."
   ]
  },
  {
   "cell_type": "markdown",
   "id": "d72d23e6",
   "metadata": {
    "deletable": false,
    "editable": false,
    "hideCode": false,
    "hidePrompt": false,
    "nbgrader": {
     "cell_type": "markdown",
     "checksum": "d6adadf4a68e78b3be4296b69a069851",
     "grade": false,
     "grade_id": "check-plot_mnist_image_matrix",
     "locked": true,
     "points": 1,
     "schema_version": 3,
     "solution": false,
     "task": true
    },
    "slideshow": {
     "slide_type": "subslide"
    },
    "tags": []
   },
   "source": [
    "::::{exercise}\n",
    ":label: ex:prep:2\n",
    "Complete the following code to generate a matrix plot of the first 50 examples from the training sets.  \n",
    "The parameter `nrows` and `ncols` specify the number of rows and columns respectively.\n",
    "\n",
    ":::{hint}\n",
    ":class: dropdown\n",
    "\n",
    "You code may look like\n",
    "```python\n",
    "...\n",
    "        for ax, example in zip(axes.flat, ds[\"train\"].____(nrows * ncols)):\n",
    "            plot_mnist_image(_______, ax)\n",
    "            ax.axes.xaxis.set_visible(False)\n",
    "            ax.axes.yaxis.set_visible(False)\n",
    "...\n",
    "```\n",
    "and the output image should look like\n",
    "![mnist_examples](mnist_examples.svg)\n",
    ":::\n",
    "\n",
    "::::"
   ]
  },
  {
   "cell_type": "code",
   "execution_count": null,
   "id": "74c130ef",
   "metadata": {
    "deletable": false,
    "editable": true,
    "hideCode": false,
    "hideOutput": false,
    "hidePrompt": false,
    "nbgrader": {
     "cell_type": "code",
     "checksum": "aec3424545e6c7eb96a6c4f2ab582319",
     "grade": false,
     "grade_id": "plot_mnist_image_matrix",
     "locked": false,
     "schema_version": 3,
     "solution": true,
     "task": false
    },
    "slideshow": {
     "slide_type": "-"
    },
    "tags": [
     "hide-input",
     "skip-execution"
    ]
   },
   "outputs": [],
   "source": [
    "def plot_mnist_image_matrix(ds, nrows=5, ncols=10, **args):\n",
    "    if args.get(\"num\"):\n",
    "        plt.close(args[\"num\"])\n",
    "    fig = plt.figure(**args)\n",
    "\n",
    "    # Create subplots on the figure\n",
    "    gs = fig.add_gridspec(nrows, ncols)\n",
    "    axes = gs.subplots()\n",
    "\n",
    "    # YOUR CODE HERE\n",
    "    raise NotImplementedError\n",
    "\n",
    "    fig.tight_layout()  # adjust spacing between subplots automatically\n",
    "    return fig, axes\n",
    "\n",
    "\n",
    "# Usage example\n",
    "fig, axes = plot_mnist_image_matrix(ds, num=\"MNIST image matrix\", figsize=(9, 6))\n",
    "# plt.savefig('mnist_examples.svg')\n",
    "plt.show()"
   ]
  },
  {
   "cell_type": "markdown",
   "id": "b95512e1",
   "metadata": {
    "editable": true,
    "hideCode": false,
    "hidePrompt": false,
    "slideshow": {
     "slide_type": "subslide"
    },
    "tags": []
   },
   "source": [
    "## Data Preprocessing"
   ]
  },
  {
   "cell_type": "markdown",
   "id": "5d98c0c8",
   "metadata": {
    "editable": true,
    "hideCode": false,
    "hidePrompt": false,
    "slideshow": {
     "slide_type": "-"
    },
    "tags": []
   },
   "source": [
    "We will use the [`tensorflow`](https://www.tensorflow.org/) library to process the data and train the neural network. (Another popular library is [PyTorch](https://pytorch.org/).)"
   ]
  },
  {
   "cell_type": "code",
   "execution_count": null,
   "id": "e1dbb394",
   "metadata": {
    "editable": true,
    "hideCode": false,
    "hidePrompt": false,
    "slideshow": {
     "slide_type": "-"
    },
    "tags": [
     "skip-execution"
    ]
   },
   "outputs": [],
   "source": [
    "import tensorflow as tf"
   ]
  },
  {
   "cell_type": "markdown",
   "id": "5000161f",
   "metadata": {
    "editable": true,
    "hideCode": false,
    "hidePrompt": false,
    "slideshow": {
     "slide_type": "fragment"
    },
    "tags": []
   },
   "source": [
    "Each pixel is stored as an integer from $\\{0,\\dots,255\\}$ ($2^8$ possible values). However, for computations by the neural network, we need to convert it to a floating point number. We will also normalize each pixel value to be within the unit interval $[0,1]$:\n",
    "\n",
    "$$\n",
    "\\begin{align} \n",
    "v \\mapsto \\frac{v - v_{\\min}}{v_{\\max} - v_{\\min}} = \\frac{v}{255}\\tag{min-max normalization}\n",
    "\\end{align}\n",
    "$$"
   ]
  },
  {
   "cell_type": "markdown",
   "id": "612e1686",
   "metadata": {
    "editable": true,
    "slideshow": {
     "slide_type": "-"
    },
    "tags": []
   },
   "source": [
    "![mnist_example](mnist_example_normalized.svg)"
   ]
  },
  {
   "cell_type": "markdown",
   "id": "4c90042a",
   "metadata": {
    "editable": true,
    "hideCode": false,
    "hidePrompt": false,
    "slideshow": {
     "slide_type": "subslide"
    },
    "tags": []
   },
   "source": [
    "::::{exercise}\n",
    ":label: ex:prep:3\n",
    "Using the function `map`, normalize each element of an image to the unit interval $[0,1]$ after converting them to `tf.float32` using [`tf.cast`](https://www.tensorflow.org/api_docs/python/tf/cast).\n",
    "\n",
    ":::{hint}\n",
    ":class: dropdown\n",
    "\n",
    "Your code may look like\n",
    "```python\n",
    "...\n",
    "        ds_n[part] = ds[part].map(\n",
    "                    lambda image, label: (_____(image, _____) / ___, label),\n",
    "                    num_parallel_calls=tf.data.experimental.AUTOTUNE)\n",
    "...\n",
    "```\n",
    "`map` applies the conversion to each example in the dataset.\n",
    ":::\n",
    "::::"
   ]
  },
  {
   "cell_type": "code",
   "execution_count": null,
   "id": "3fa82fa7",
   "metadata": {
    "deletable": false,
    "editable": true,
    "hideCode": false,
    "hidePrompt": false,
    "nbgrader": {
     "cell_type": "code",
     "checksum": "2d5424d4320dba47b9131042531caaa5",
     "grade": false,
     "grade_id": "normalize",
     "locked": false,
     "schema_version": 3,
     "solution": true,
     "task": false
    },
    "slideshow": {
     "slide_type": "-"
    },
    "tags": [
     "skip-execution",
     "hide-cell"
    ]
   },
   "outputs": [],
   "source": [
    "def normalize_mnist(ds):\n",
    "    \"\"\"\n",
    "    Returns:\n",
    "    MNIST Dataset with image pixel values normalized to float32 in [0,1].\n",
    "    \"\"\"\n",
    "    ds_n = dict.fromkeys(ds.keys())  # initialize the normalized dataset\n",
    "    for part in ds.keys():\n",
    "        # normalize pixel values to [0,1]\n",
    "        # YOUR CODE HERE\n",
    "        raise NotImplementedError\n",
    "    return ds_n\n",
    "\n",
    "\n",
    "ds_n = normalize_mnist(ds)\n",
    "ds_n"
   ]
  },
  {
   "cell_type": "code",
   "execution_count": null,
   "id": "4e5713c7",
   "metadata": {
    "editable": true,
    "slideshow": {
     "slide_type": "skip"
    },
    "tags": [
     "skip-execution"
    ]
   },
   "outputs": [],
   "source": [
    "# Plot the normalized digit\n",
    "fig_name = \"MNIST normalized\"\n",
    "plt.close(fig_name)\n",
    "plt.figure(num=fig_name, figsize=(11, 11), dpi=80)\n",
    "for example in ds_n[\"train\"].take(1):\n",
    "    plot_mnist_image(example, pixel_format=\"{:.2f}\")  # show pixel value to 2 d.p.s\n",
    "# plt.savefig('mnist_example_normalized.svg')\n",
    "plt.show()"
   ]
  },
  {
   "cell_type": "code",
   "execution_count": null,
   "id": "56a7f400",
   "metadata": {
    "deletable": false,
    "editable": false,
    "hideCode": false,
    "hidePrompt": false,
    "nbgrader": {
     "cell_type": "code",
     "checksum": "5de663ce934246c44d594b613ff472f8",
     "grade": true,
     "grade_id": "test-normalize",
     "locked": true,
     "points": 1,
     "schema_version": 3,
     "solution": false,
     "task": false
    },
    "slideshow": {
     "slide_type": "skip"
    },
    "tags": [
     "remove-output",
     "skip-execution",
     "hide-input"
    ]
   },
   "outputs": [],
   "source": [
    "# tests"
   ]
  },
  {
   "cell_type": "markdown",
   "id": "04fd4461",
   "metadata": {
    "editable": true,
    "hideCode": false,
    "hidePrompt": false,
    "slideshow": {
     "slide_type": "subslide"
    },
    "tags": []
   },
   "source": [
    "To avoid overfitting, the training of a neural network uses *stochastic gradient descent* which\n",
    "- divides the training into many steps where\n",
    "- each step uses a *randomly* selected minibatch of samples \n",
    "- to improve the neural network *bit-by-bit*."
   ]
  },
  {
   "cell_type": "code",
   "execution_count": null,
   "id": "f0f3deeb",
   "metadata": {
    "editable": true,
    "hideCode": false,
    "hidePrompt": false,
    "slideshow": {
     "slide_type": "-"
    },
    "tags": [
     "skip-execution"
    ]
   },
   "outputs": [],
   "source": [
    "def batch_mnist(ds_n):\n",
    "    ds_b = dict.fromkeys(ds_n.keys())  # initialize the batched dataset\n",
    "    for part in ds_n.keys():\n",
    "        ds_b[part] = (\n",
    "            ds_n[part]\n",
    "            .batch(128)  # Use a minibatch of examples for each training step\n",
    "            .shuffle(\n",
    "                ds_info.splits[part].num_examples, reshuffle_each_iteration=True\n",
    "            )  # shuffle data for each epoch\n",
    "            .cache()  # cache current elements\n",
    "            .prefetch(tf.data.experimental.AUTOTUNE)\n",
    "        )  # preload subsequent elements\n",
    "    return ds_b\n",
    "\n",
    "\n",
    "ds_b = batch_mnist(ds_n)\n",
    "ds_b"
   ]
  },
  {
   "cell_type": "markdown",
   "id": "e3d18259",
   "metadata": {
    "editable": true,
    "hideCode": false,
    "hidePrompt": false,
    "slideshow": {
     "slide_type": "notes"
    },
    "tags": []
   },
   "source": [
    "The above code \n",
    "- specifies the batch size (128) and \n",
    "- enables caching and prefetching to reduce the latency in loading examples repeatedly for training and testing."
   ]
  },
  {
   "cell_type": "markdown",
   "id": "65a07484",
   "metadata": {
    "editable": true,
    "hideCode": false,
    "hidePrompt": false,
    "slideshow": {
     "slide_type": "subslide"
    },
    "tags": []
   },
   "source": [
    "::::{exercise}\n",
    ":label: ex:prep:4\n",
    "The output to the above cell should look like\n",
    "```python\n",
    "{'test': <PrefetchDataset shapes: ((None, 28, 28, 1), (None,)), types: (tf.float32, tf.int64)>,\n",
    " 'train': <PrefetchDataset shapes: ((None, 28, 28, 1), (None,)), types: (tf.float32, tf.int64)>}\n",
    "```\n",
    "with a new first dimension of unknown size `None`. Why?\n",
    "\n",
    ":::{hint}\n",
    ":class: dropdown\n",
    "Is the total number of examples divisible by the batch sizs?\n",
    ":::\n",
    "::::"
   ]
  },
  {
   "cell_type": "markdown",
   "id": "38287e76",
   "metadata": {
    "deletable": false,
    "editable": true,
    "hideCode": false,
    "hidePrompt": false,
    "nbgrader": {
     "cell_type": "markdown",
     "checksum": "3e776f9d0a83c8d12eb4fe6c9aff182e",
     "grade": true,
     "grade_id": "batch",
     "locked": false,
     "points": 1,
     "schema_version": 3,
     "solution": true,
     "task": false
    },
    "slideshow": {
     "slide_type": "-"
    },
    "tags": []
   },
   "source": [
    "YOUR ANSWER HERE"
   ]
  },
  {
   "cell_type": "markdown",
   "id": "b47f47ed",
   "metadata": {
    "editable": true,
    "slideshow": {
     "slide_type": "slide"
    },
    "tags": []
   },
   "source": [
    "## Release Memory"
   ]
  },
  {
   "cell_type": "markdown",
   "id": "74348c99",
   "metadata": {
    "editable": true,
    "slideshow": {
     "slide_type": ""
    },
    "tags": []
   },
   "source": [
    "You cannot run a notebook if you have insufficient memory. It is important to shut down a notebook to release the memory:  \n",
    "- `Kernel`->`Shut Down Kernel`."
   ]
  },
  {
   "cell_type": "markdown",
   "id": "e92c66e2",
   "metadata": {
    "slideshow": {
     "slide_type": "fragment"
    }
   },
   "source": [
    "::::{seealso}\n",
    "The JupyterLab interface has many [tools](https://jupyterlab.readthedocs.io/en/stable/user/running.html) to help you monitor your memory consumption.\n",
    "::::"
   ]
  }
 ],
 "metadata": {
  "kernelspec": {
   "display_name": "Python 3 (ipykernel)",
   "language": "python",
   "name": "python3"
  },
  "language_info": {
   "codemirror_mode": {
    "name": "ipython",
    "version": 3
   },
   "file_extension": ".py",
   "mimetype": "text/x-python",
   "name": "python",
   "nbconvert_exporter": "python",
   "pygments_lexer": "ipython3",
   "version": "3.12.11"
  },
  "skip_execution": true
 },
 "nbformat": 4,
 "nbformat_minor": 5
}
