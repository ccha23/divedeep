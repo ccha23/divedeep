{
 "cells": [
  {
   "cell_type": "markdown",
   "metadata": {
    "cell_style": "center",
    "slideshow": {
     "slide_type": "slide"
    }
   },
   "source": [
    "# DIVE into Deep Learning"
   ]
  },
  {
   "cell_type": "markdown",
   "metadata": {
    "slideshow": {
     "slide_type": "fragment"
    }
   },
   "source": [
    "This is an executable book for the [Deep Learning workshop][DL] at the [CS Department of City University of Hong Kong][CS]. You can learn deep learning in a interactive virtual environment that is \n",
    "\n",
    "- **D**iversified, \n",
    "- **I**nteractive, \n",
    "- **V**ersatile, and \n",
    "- **E**ngaging. \n",
    "\n",
    "[DL]: https://www.cs.cityu.edu.hk/~ccha23/divedeep\n",
    "[CS]: https://www.cs.cityu.edu.hk/"
   ]
  },
  {
   "cell_type": "markdown",
   "metadata": {
    "slideshow": {
     "slide_type": "fragment"
    }
   },
   "source": [
    "**What do I build in this workshop?**"
   ]
  },
  {
   "cell_type": "markdown",
   "metadata": {},
   "source": [
    "In this workshop, you will train the following classifier using deep learning:\n",
    "1. Handwrite a digit from 0, ..., 9.\n",
    "1. Click predict to see if the app can recognize the digit."
   ]
  },
  {
   "cell_type": "code",
   "execution_count": 1,
   "metadata": {
    "ExecuteTime": {
     "end_time": "2021-05-21T10:38:29.799211Z",
     "start_time": "2021-05-21T10:38:29.789596Z"
    },
    "hideCode": true,
    "hidePrompt": true,
    "init_cell": true,
    "slideshow": {
     "slide_type": "-"
    },
    "tags": [
     "hide-input"
    ]
   },
   "outputs": [
    {
     "data": {
      "text/html": [
       "<iframe src=\"https://www.cs.cityu.edu.hk/~ccha23/mnist/\" width=\"100%\" height=\"450\" frameBorder=\"0\"></iframe>\n"
      ],
      "text/plain": [
       "<IPython.core.display.HTML object>"
      ]
     },
     "metadata": {},
     "output_type": "display_data"
    }
   ],
   "source": [
    "%%html\n",
    "<iframe src=\"https://www.cs.cityu.edu.hk/~ccha23/mnist/\" width=\"100%\" height=\"450\" frameBorder=\"0\"></iframe>"
   ]
  },
  {
   "cell_type": "markdown",
   "metadata": {},
   "source": [
    "**How to get started?**"
   ]
  },
  {
   "cell_type": "markdown",
   "metadata": {
    "slideshow": {
     "slide_type": "subslide"
    }
   },
   "source": [
    "With your google accounts, you can interact with the notebooks during the workshop by launching it to our [JupyterHub server][dive].\n",
    "\n",
    "[dive]: https://dive.cs.cityu.edu.hk"
   ]
  },
  {
   "cell_type": "markdown",
   "metadata": {
    "slideshow": {
     "slide_type": "-"
    }
   },
   "source": [
    "---\n",
    "\n",
    "**Tip**\n",
    "\n",
    "To launch:\n",
    "\n",
    "- Click the rocket icon on the top right hand corner.\n",
    "- Click the JupyterHub icon.\n",
    "\n",
    "![launch](launch.png)\n",
    "\n",
    "---"
   ]
  },
  {
   "cell_type": "markdown",
   "metadata": {},
   "source": [
    "**How to run the notebooks after the workshop?**"
   ]
  },
  {
   "cell_type": "markdown",
   "metadata": {},
   "source": [
    "After the workshop, we will continue to open the server for workshop participants for a week. Afterwards, we will close the server and post instructions here for running the server locally on your computers. Please make sure you download your work if you would like to keep them and continue to train them."
   ]
  }
 ],
 "metadata": {
  "celltoolbar": "Slideshow",
  "kernelspec": {
   "display_name": "Python 3 (ipykernel)",
   "language": "python",
   "name": "python3"
  },
  "language_info": {
   "codemirror_mode": {
    "name": "ipython",
    "version": 3
   },
   "file_extension": ".py",
   "mimetype": "text/x-python",
   "name": "python",
   "nbconvert_exporter": "python",
   "pygments_lexer": "ipython3",
   "version": "3.8.10"
  },
  "rise": {
   "enable_chalkboard": true,
   "scroll": true,
   "theme": "white"
  },
  "toc": {
   "base_numbering": 1,
   "nav_menu": {},
   "number_sections": true,
   "sideBar": true,
   "skip_h1_title": true,
   "title_cell": "Table of Contents",
   "title_sidebar": "Contents",
   "toc_cell": false,
   "toc_position": {},
   "toc_section_display": true,
   "toc_window_display": false
  }
 },
 "nbformat": 4,
 "nbformat_minor": 4
}
