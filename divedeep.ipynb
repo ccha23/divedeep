{
 "cells": [
  {
   "cell_type": "markdown",
   "metadata": {
    "cell_style": "center",
    "slideshow": {
     "slide_type": "slide"
    }
   },
   "source": [
    "# DIVE into Deep Learning"
   ]
  },
  {
   "cell_type": "markdown",
   "metadata": {
    "slideshow": {
     "slide_type": "fragment"
    }
   },
   "source": [
    "This is an executable book for the [Deep Learning workshop][DL] at the [CS Department of City University of Hong Kong][CS]. You can learn deep learning in an interactive virtual environment that is \n",
    "\n",
    "- **D**iversified, \n",
    "- **I**nteractive, \n",
    "- **V**ersatile, and \n",
    "- **E**ngaging. \n",
    "\n",
    "[DL]: https://www.cs.cityu.edu.hk/~ccha23/divedeep\n",
    "[CS]: https://www.cs.cityu.edu.hk/"
   ]
  },
  {
   "cell_type": "markdown",
   "metadata": {
    "slideshow": {
     "slide_type": "fragment"
    }
   },
   "source": [
    "## What will you build in this workshop?"
   ]
  },
  {
   "cell_type": "markdown",
   "metadata": {},
   "source": [
    "You will learn to train a classifier using deep learning that can recognize handwritten digits from 0 to 9. Follow these steps:\n",
    "\n",
    "1. Write a digit from 0 to 9 by hand.\n",
    "2. Click on the \"Predict\" button to see if the application can recognize your digit."
   ]
  },
  {
   "cell_type": "code",
   "execution_count": 1,
   "metadata": {
    "ExecuteTime": {
     "end_time": "2021-05-21T10:38:29.799211Z",
     "start_time": "2021-05-21T10:38:29.789596Z"
    },
    "hideCode": true,
    "hidePrompt": true,
    "init_cell": true,
    "slideshow": {
     "slide_type": "-"
    },
    "tags": [
     "hide-input"
    ]
   },
   "outputs": [
    {
     "data": {
      "text/html": [
       "<iframe src=\"https://www.cs.cityu.edu.hk/~ccha23/mnist/\" width=\"100%\" height=\"450\" frameBorder=\"0\"></iframe>\n"
      ],
      "text/plain": [
       "<IPython.core.display.HTML object>"
      ]
     },
     "metadata": {},
     "output_type": "display_data"
    }
   ],
   "source": [
    "%%html\n",
    "<iframe src=\"https://www.cs.cityu.edu.hk/~ccha23/mnist/\" width=\"100%\" height=\"450\" frameBorder=\"0\"></iframe>"
   ]
  },
  {
   "cell_type": "markdown",
   "metadata": {},
   "source": [
    "## How to get started?"
   ]
  },
  {
   "cell_type": "markdown",
   "metadata": {
    "slideshow": {
     "slide_type": "subslide"
    }
   },
   "source": [
    "You can interact with the notebooks during the workshop by launching them on our [JupyterHub server][dive] using your Google or Github account.\n",
    "\n",
    "[dive]: https://dive.cs.cityu.edu.hk/jhub"
   ]
  },
  {
   "cell_type": "markdown",
   "metadata": {
    "slideshow": {
     "slide_type": "-"
    }
   },
   "source": [
    "```{tip}\n",
    "\n",
    "To launch the notebooks:\n",
    "\n",
    "1. Click on the rocket icon located at the top right corner of the page.\n",
    "2. Click on the JupyterHub icon to launch the notebooks.\n",
    "\n",
    "![launch](launch.png)\n",
    "\n",
    "```"
   ]
  },
  {
   "cell_type": "markdown",
   "metadata": {},
   "source": [
    "## How to run the notebooks after the workshop?"
   ]
  },
  {
   "cell_type": "markdown",
   "metadata": {},
   "source": [
    "After the workshop, we will keep the server open for participants for an additional week. If you want to run the server locally and maintain persistent storage, please refer to the instructions outlined in the `README.md` file found in the repository: \n",
    "\n",
    "> https://github.com/ccha23/divedeep\n",
    "\n",
    "It's important to note that if you wish to continue training your models, you should download your work before the server closes."
   ]
  },
  {
   "cell_type": "markdown",
   "metadata": {},
   "source": [
    "If you are interested in knowing how the server is set up, you can refer to the following link:\n",
    "\n",
    "> https://github.com/dive4dec/deepjupyter"
   ]
  }
 ],
 "metadata": {
  "celltoolbar": "Slideshow",
  "kernelspec": {
   "display_name": "Python 3 (ipykernel)",
   "language": "python",
   "name": "python3"
  },
  "language_info": {
   "codemirror_mode": {
    "name": "ipython",
    "version": 3
   },
   "file_extension": ".py",
   "mimetype": "text/x-python",
   "name": "python",
   "nbconvert_exporter": "python",
   "pygments_lexer": "ipython3",
   "version": "3.10.12"
  },
  "rise": {
   "enable_chalkboard": true,
   "scroll": true,
   "theme": "white"
  },
  "toc": {
   "base_numbering": 1,
   "nav_menu": {},
   "number_sections": true,
   "sideBar": true,
   "skip_h1_title": true,
   "title_cell": "Table of Contents",
   "title_sidebar": "Contents",
   "toc_cell": false,
   "toc_position": {},
   "toc_section_display": true,
   "toc_window_display": false
  }
 },
 "nbformat": 4,
 "nbformat_minor": 4
}
