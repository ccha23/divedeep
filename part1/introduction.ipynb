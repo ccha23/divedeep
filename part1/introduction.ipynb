{
 "cells": [
  {
   "cell_type": "markdown",
   "id": "360de6c2",
   "metadata": {
    "editable": true,
    "slideshow": {
     "slide_type": ""
    },
    "tags": []
   },
   "source": [
    "---\n",
    "title: Introduction\n",
    "---"
   ]
  },
  {
   "cell_type": "markdown",
   "id": "d8492270",
   "metadata": {
    "editable": true,
    "slideshow": {
     "slide_type": "-"
    },
    "tags": [
     "remove-cell"
    ]
   },
   "source": [
    "**DIVE ino Deep Learning**\n",
    "___"
   ]
  },
  {
   "cell_type": "markdown",
   "id": "0e624845",
   "metadata": {
    "editable": true,
    "slideshow": {
     "slide_type": ""
    },
    "tags": []
   },
   "source": [
    "::::{attention}\n",
    "The notebooks are compiled at: https://ccha23.github.io/divedeep_instructor/\n",
    "::::"
   ]
  },
  {
   "cell_type": "code",
   "execution_count": null,
   "id": "552630f6-5953-41cd-91d1-c6509969f284",
   "metadata": {
    "editable": true,
    "slideshow": {
     "slide_type": "subslide"
    },
    "tags": [
     "skip-execution"
    ]
   },
   "outputs": [],
   "source": [
    "%%bash\n",
    "if [ -z \"${NBGRADER_EXECUTION}\" ]; then\n",
    "  make setup\n",
    "fi"
   ]
  },
  {
   "cell_type": "markdown",
   "id": "83b9dc4e",
   "metadata": {
    "editable": true,
    "slideshow": {
     "slide_type": "slide"
    },
    "tags": []
   },
   "source": [
    "## What is deep learning?"
   ]
  },
  {
   "cell_type": "markdown",
   "id": "c7ed2725-f068-43d2-906a-27d785e4df08",
   "metadata": {
    "editable": true,
    "slideshow": {
     "slide_type": ""
    },
    "tags": []
   },
   "source": [
    "Play the following cell with a machine that recognizes musical notes."
   ]
  },
  {
   "cell_type": "code",
   "execution_count": null,
   "id": "98a77fc1-6ea1-4611-a8d1-c9e6929c8bad",
   "metadata": {
    "editable": true,
    "slideshow": {
     "slide_type": ""
    },
    "tags": [
     "hide-input"
    ]
   },
   "outputs": [],
   "source": [
    "%%html\n",
    "<iframe src=\"https://www.cs.cityu.edu.hk/~ccha23/tm/slides.html\" allow=\"microphone\"\n",
    "    style=\"border:0;aspect-ratio: 16/9;width:100%;height:100%;max-width:1400px;\"></iframe>"
   ]
  },
  {
   "cell_type": "markdown",
   "id": "11249304-a2d1-4ff6-9e5d-86dec94f0e35",
   "metadata": {
    "editable": true,
    "slideshow": {
     "slide_type": "-"
    },
    "tags": []
   },
   "source": [
    "The machine is trained by deep learning techniques using [Teachable Machine](https://teachablemachine.withgoogle.com/). To learn to train such a machine without coding, click the arrow on the bottom right to transition to the next slide.[^reveal]\n",
    "\n",
    "[^reveal]: The interactive slides was made with [`reveal.js`](https://revealjs.com/)."
   ]
  },
  {
   "cell_type": "markdown",
   "id": "7c408742-fced-4852-aebb-0c4756204aeb",
   "metadata": {
    "editable": true,
    "slideshow": {
     "slide_type": "subslide"
    },
    "tags": []
   },
   "source": [
    "::::{exercise}\n",
    ":label: ex:intro:2\n",
    "\n",
    "Use [Teachable Machine](https://teachablemachine.withgoogle.com/) to train your machine. Explain what your machine does and include a link to it.\n",
    "::::"
   ]
  },
  {
   "cell_type": "markdown",
   "id": "237807ae-a6ad-448a-9857-253cf4ec1d94",
   "metadata": {
    "deletable": false,
    "editable": true,
    "nbgrader": {
     "cell_type": "markdown",
     "checksum": "82802de9ab93d32a744131a48261b640",
     "grade": true,
     "grade_id": "tm",
     "locked": false,
     "points": 1,
     "schema_version": 3,
     "solution": true,
     "task": false
    },
    "slideshow": {
     "slide_type": "-"
    },
    "tags": []
   },
   "source": [
    "YOUR ANSWER HERE"
   ]
  },
  {
   "cell_type": "markdown",
   "id": "60ddca2a",
   "metadata": {
    "editable": true,
    "slideshow": {
     "slide_type": ""
    },
    "tags": []
   },
   "source": [
    "Another application of deep learning is Generative AI. Load the [JupyterAI magics](https://jupyter-ai.readthedocs.io/en/latest/users/index.html#the-ai-and-ai-magic-commands) by running the following cell.\n",
    "\n",
    "1. Select the following cell.\n",
    "2. Press `Shift+Enter`."
   ]
  },
  {
   "cell_type": "code",
   "execution_count": null,
   "id": "545e6588",
   "metadata": {
    "editable": true,
    "slideshow": {
     "slide_type": ""
    },
    "tags": [
     "skip-execution"
    ]
   },
   "outputs": [],
   "source": [
    "%reload_ext jupyter_ai"
   ]
  },
  {
   "cell_type": "markdown",
   "id": "c880207a",
   "metadata": {
    "editable": true,
    "slideshow": {
     "slide_type": ""
    },
    "tags": []
   },
   "source": [
    "Run the following cell to generate an explanation of what generative AI is."
   ]
  },
  {
   "cell_type": "code",
   "execution_count": null,
   "id": "58fe1330",
   "metadata": {
    "editable": true,
    "slideshow": {
     "slide_type": ""
    },
    "tags": [
     "skip-execution"
    ]
   },
   "outputs": [],
   "source": [
    "%%ai -f text\n",
    "Explain what is generative AI in one line."
   ]
  },
  {
   "cell_type": "markdown",
   "id": "0517047c",
   "metadata": {
    "editable": true,
    "slideshow": {
     "slide_type": ""
    },
    "tags": []
   },
   "source": [
    "Try a few other examples:"
   ]
  },
  {
   "cell_type": "code",
   "execution_count": null,
   "id": "b2686476",
   "metadata": {
    "editable": true,
    "slideshow": {
     "slide_type": ""
    },
    "tags": [
     "skip-execution"
    ]
   },
   "outputs": [],
   "source": [
    "%%ai\n",
    "Generate the Pythagoras theorem in LaTeX surrounded by `$$`. Do not include an explanation."
   ]
  },
  {
   "cell_type": "code",
   "execution_count": null,
   "id": "17d1ea44",
   "metadata": {
    "editable": true,
    "slideshow": {
     "slide_type": ""
    },
    "tags": [
     "skip-execution"
    ]
   },
   "outputs": [],
   "source": [
    "%%ai -f html\n",
    "Create a right-angled triangle using SVG with a black border and white fill."
   ]
  },
  {
   "cell_type": "markdown",
   "id": "6a342a15",
   "metadata": {
    "editable": true,
    "slideshow": {
     "slide_type": ""
    },
    "tags": []
   },
   "source": [
    "There is also a separate chat interface to talk to a chatbot called Jupyternaut. Click the chat icon on the left menu bar to open the chat panel. You can provide contexts to you query as follows:\n",
    "\n",
    "- Selecting something in a notebook and choose [`Send messages with selection`](https://jupyter-ai.readthedocs.io/en/latest/users/index.html#asking-about-something-in-your-notebook).\n",
    "- Ask Jupyternaut to [learn local data](https://jupyter-ai.readthedocs.io/en/latest/users/index.html#learning-about-local-data). E.g.,\n",
    "  1. Send `/learn divedeep/part1/docs/` to ask.\n",
    "  2. Send `/ask what is Python?` or `/ask what is DIVE?` and compare with with the reponse when the message is send without the slash command `/ask`."
   ]
  },
  {
   "cell_type": "markdown",
   "id": "e566fc45",
   "metadata": {
    "editable": true,
    "slideshow": {
     "slide_type": "slide"
    }
   },
   "source": [
    "## How to train a neural network?"
   ]
  },
  {
   "cell_type": "markdown",
   "id": "359a7d2d",
   "metadata": {
    "editable": true,
    "slideshow": {
     "slide_type": "-"
    },
    "tags": []
   },
   "source": [
    "[Deep learning](https://en.wikipedia.org/wiki/Deep_learning) is a technique of \n",
    "- training a *neural network* with \n",
    "- many layers of computational units called *neurons*."
   ]
  },
  {
   "cell_type": "markdown",
   "id": "5481e92d",
   "metadata": {
    "slideshow": {
     "slide_type": "slide"
    }
   },
   "source": [
    "### Tensorflow playground"
   ]
  },
  {
   "cell_type": "markdown",
   "id": "bbe22c8d",
   "metadata": {
    "editable": true,
    "slideshow": {
     "slide_type": "-"
    },
    "tags": []
   },
   "source": [
    "Let's visualize the training process!  \n",
    "The following trains a neural network that predicts the color of a point $(x_1,x_2)$:\n",
    "\n",
    "- Choose a data set from the `DATA` column.\n",
    "- Click the `play` button to start training the network. \n",
    "- `Epoch` is the number of times a neural network is trained iteratively using the data selected.\n",
    "- In the `OUTPUT` column, \n",
    "  - points in the blue region are predicted blue, and\n",
    "  - points in the orange region are predicted orange."
   ]
  },
  {
   "cell_type": "code",
   "execution_count": null,
   "id": "56781443-ea1f-4e04-be4b-d648b8fa41c7",
   "metadata": {
    "editable": true,
    "slideshow": {
     "slide_type": ""
    },
    "tags": [
     "hide-input"
    ]
   },
   "outputs": [],
   "source": [
    "%%html\n",
    "<iframe src=\"https://www.cs.cityu.edu.hk/~ccha23/playground\"\n",
    "    style=\"width: 100%; height: 800px; border:none;\"></iframe>"
   ]
  },
  {
   "cell_type": "markdown",
   "id": "f9d47c53",
   "metadata": {
    "cell_style": "center",
    "editable": true,
    "slideshow": {
     "slide_type": "notes"
    },
    "tags": []
   },
   "source": [
    "The above app is a slight modification of the open source project [Tensorflow Playground](https://playground.tensorflow.org) with the additional features that:\n",
    "- You can save your configuration to the browser session by clicking the button `Save to browser session`. If you reopen the browser, it will load your previously saved configuration automatically.\n",
    "- You can reset the configuration by clicking the `Reset` button.\n",
    "- The last button `Copy permalink to clipboard` copies the permalink to your configuration to the clipboard. You can save/share multiple configurations permanently using their the permalinks."
   ]
  },
  {
   "cell_type": "markdown",
   "id": "e1daf104",
   "metadata": {
    "editable": true,
    "slideshow": {
     "slide_type": "subslide"
    },
    "tags": []
   },
   "source": [
    "For instance, the following uses the permalink to initialize the simplest neural network for a linearly separable data:"
   ]
  },
  {
   "cell_type": "code",
   "execution_count": null,
   "id": "f7fadfb5-40e1-432c-9f2b-ce695cce34f2",
   "metadata": {
    "editable": true,
    "slideshow": {
     "slide_type": ""
    },
    "tags": [
     "hide-input"
    ]
   },
   "outputs": [],
   "source": [
    "%%html\n",
    "<iframe src=\"https://www.cs.cityu.edu.hk/~ccha23/playground/#activation=tanh&batchSize=10&dataset=gauss&regDataset=reg-plane&learningRate=0.03&regularizationRate=0&noise=0&networkShape=1&seed=0.82593&showTestData=false&discretize=false&percTrainData=50&x=true&y=true&xTimesY=false&xSquared=false&ySquared=false&cosX=false&sinX=false&cosY=false&sinY=false&collectStats=false&problem=classification&initZero=false&hideText=false\"\n",
    "    style=\"width: 100%; height: 800px; border:none;\"></iframe>"
   ]
  },
  {
   "cell_type": "markdown",
   "id": "497b9e44",
   "metadata": {
    "editable": true,
    "slideshow": {
     "slide_type": "subslide"
    },
    "tags": []
   },
   "source": [
    "::::{exercise}\n",
    ":label: ex:intro:1\n",
    "Try to classify the 'spiral' dataset well. Explain how you design your neural network and include a screen capture in the following cell such as:  \n",
    "![spiral](spiral.png)\n",
    "::::"
   ]
  },
  {
   "cell_type": "markdown",
   "id": "82ee076e",
   "metadata": {
    "deletable": false,
    "editable": true,
    "nbgrader": {
     "cell_type": "markdown",
     "checksum": "d3dd588956b73e36e44b25bf6de9e68c",
     "grade": true,
     "grade_id": "spiral",
     "locked": false,
     "points": 1,
     "schema_version": 3,
     "solution": true,
     "task": false
    },
    "slideshow": {
     "slide_type": "-"
    },
    "tags": []
   },
   "source": [
    "YOUR ANSWER HERE"
   ]
  },
  {
   "cell_type": "markdown",
   "id": "c313aee2",
   "metadata": {
    "editable": true,
    "slideshow": {
     "slide_type": "notes"
    },
    "tags": []
   },
   "source": [
    "::::{note}\n",
    "\n",
    "You can also [fork and modify the code on GitHub](https://github.com/tensorflow/tensorflow/pulls) to add new features, e.g., to customize the datasets and store the trained neural network.  Is it possible to extend the app to \n",
    "- higher-dimensional dataset say $(x_1,x_2,x_3, \\dots)$, and\n",
    "- multiple class values say orange, blue, red, ...?\n",
    "\n",
    "::::"
   ]
  }
 ],
 "metadata": {
  "jupytext": {
   "default_lexer": "ipython3"
  },
  "kernelspec": {
   "display_name": "Python 3 (ipykernel)",
   "language": "python",
   "name": "python3"
  },
  "language_info": {
   "codemirror_mode": {
    "name": "ipython",
    "version": 3
   },
   "file_extension": ".py",
   "mimetype": "text/x-python",
   "name": "python",
   "nbconvert_exporter": "python",
   "pygments_lexer": "ipython3",
   "version": "3.12.11"
  }
 },
 "nbformat": 4,
 "nbformat_minor": 5
}
