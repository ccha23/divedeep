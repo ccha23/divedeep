{
 "cells": [
  {
   "cell_type": "markdown",
   "id": "360de6c2",
   "metadata": {
    "editable": true,
    "slideshow": {
     "slide_type": ""
    }
   },
   "source": [
    "---\n",
    "title: Introduction\n",
    "---"
   ]
  },
  {
   "cell_type": "markdown",
   "id": "d8492270",
   "metadata": {
    "editable": true,
    "slideshow": {
     "slide_type": "-"
    },
    "tags": [
     "remove-cell"
    ]
   },
   "source": [
    "**DIVE ino Deep Learning**\n",
    "___"
   ]
  },
  {
   "cell_type": "markdown",
   "id": "0e624845",
   "metadata": {
    "editable": true,
    "slideshow": {
     "slide_type": ""
    },
    "tags": []
   },
   "source": [
    "::::{attention}\n",
    "The notebooks are compiled at: https://ccha23.github.io/divedeep_instructor/\n",
    "::::"
   ]
  },
  {
   "cell_type": "code",
   "execution_count": null,
   "id": "552630f6-5953-41cd-91d1-c6509969f284",
   "metadata": {
    "editable": true,
    "slideshow": {
     "slide_type": "subslide"
    },
    "tags": []
   },
   "outputs": [],
   "source": [
    "%%bash\n",
    "if [ -z \"${NBGRADER_EXECUTION}\" ]; then\n",
    "  make setup\n",
    "fi"
   ]
  },
  {
   "cell_type": "markdown",
   "id": "83b9dc4e",
   "metadata": {
    "editable": true,
    "slideshow": {
     "slide_type": "slide"
    },
    "tags": []
   },
   "source": [
    "## What is deep learning?"
   ]
  },
  {
   "cell_type": "markdown",
   "id": "60ddca2a",
   "metadata": {},
   "source": [
    "We can run a generative model locally using [ollama](https://ollama.com/). To do so, start the ollama service as follows.\n",
    "\n",
    "1. In JupyterLab, navigate to the `File` menu.\n",
    "1. Select `New` from the drop-down menu and choose `Terminal`.\n",
    "1. The terminal window will appear. You can use this terminal to run a shell command. Enter the following command into the terminal prompt and hit enter.\n",
    "   ```bash\n",
    "   ollama serve\n",
    "   ```"
   ]
  },
  {
   "cell_type": "markdown",
   "id": "52de86c9",
   "metadata": {},
   "source": [
    "Load the [JupyterAI magics](https://jupyter-ai.readthedocs.io/en/latest/users/index.html#the-ai-and-ai-magic-commands) by running the following cell.\n",
    "\n",
    "1. Select the following cell.\n",
    "2. Press `Shift+Enter`."
   ]
  },
  {
   "cell_type": "code",
   "execution_count": null,
   "id": "545e6588",
   "metadata": {},
   "outputs": [],
   "source": [
    "%reload_ext jupyter_ai"
   ]
  },
  {
   "cell_type": "markdown",
   "id": "c880207a",
   "metadata": {},
   "source": [
    "Run the following cell to generate an explanation of what generative AI is."
   ]
  },
  {
   "cell_type": "code",
   "execution_count": null,
   "id": "58fe1330",
   "metadata": {},
   "outputs": [],
   "source": [
    "%%ai dive-ollama:llama3.1 -f text\n",
    "Explain what is generative AI."
   ]
  },
  {
   "cell_type": "markdown",
   "id": "0517047c",
   "metadata": {},
   "source": [
    "Try a few other examples:"
   ]
  },
  {
   "cell_type": "code",
   "execution_count": null,
   "id": "b2686476",
   "metadata": {},
   "outputs": [],
   "source": [
    "%%ai dive-ollama:llama3.1 -f math\n",
    "Generate the Pythagoras theorem in LaTeX surrounded by `$$`. Do not include an explanation."
   ]
  },
  {
   "cell_type": "code",
   "execution_count": null,
   "id": "17d1ea44",
   "metadata": {},
   "outputs": [],
   "source": [
    "%%ai dive-ollama:llama3.1 -f html\n",
    "Create a right-angled triangle using SVG with a black border and white fill."
   ]
  },
  {
   "cell_type": "markdown",
   "id": "6a342a15",
   "metadata": {},
   "source": [
    "There is also a Jupyternaut chatbot:\n",
    "\n",
    "1. Click the chat icon on the left menu bar. A chat panel will open.\n",
    "1. Click the gear icon on the chat panel to set up the provider.\n",
    "1. Select the `Completion model` as `AI :: codellama`, the Embedding model as `AI :: mxbai-embed-large`, \n",
    "   and click the Save Changes button.\n",
    "1. Click the back arrow at the top to go back to the chat window.\n",
    "1. Enter how are you today? to see a response. You can also ask Jupyternaut to [learn local data](https://jupyter-ai.readthedocs.io/en/latest/users/index.html#learning-about-local-data)."
   ]
  },
  {
   "cell_type": "markdown",
   "id": "b3dd0483",
   "metadata": {},
   "source": [
    "Different models may be of different sizes and may be good at different things. You may try other models from the list below such as `llama3`."
   ]
  },
  {
   "cell_type": "code",
   "execution_count": null,
   "id": "9cfc1b72",
   "metadata": {},
   "outputs": [],
   "source": [
    "!ollama list"
   ]
  },
  {
   "cell_type": "markdown",
   "id": "8174e7ec",
   "metadata": {},
   "source": [
    "::::{seealso}\n",
    "\n",
    "Run the following magic in a cell to see the list of supported providers.\n",
    "\n",
    "```\n",
    "%ai list\n",
    "```\n",
    "\n",
    "For more help in using the magic, run:\n",
    "\n",
    "```\n",
    "%ai --help\n",
    "```\n",
    "::::"
   ]
  },
  {
   "cell_type": "markdown",
   "id": "e566fc45",
   "metadata": {
    "editable": true,
    "slideshow": {
     "slide_type": "slide"
    }
   },
   "source": [
    "## How to train a neural network?"
   ]
  },
  {
   "cell_type": "markdown",
   "id": "359a7d2d",
   "metadata": {
    "editable": true,
    "slideshow": {
     "slide_type": "-"
    }
   },
   "source": [
    "[Deep learning](https://en.wikipedia.org/wiki/Deep_learning) is a technique of \n",
    "- training a *neural network* with \n",
    "- many layers of computational units called *neurons*."
   ]
  },
  {
   "cell_type": "markdown",
   "id": "5481e92d",
   "metadata": {
    "slideshow": {
     "slide_type": "slide"
    }
   },
   "source": [
    "### Tensorflow playground"
   ]
  },
  {
   "cell_type": "markdown",
   "id": "bbe22c8d",
   "metadata": {
    "editable": true,
    "slideshow": {
     "slide_type": "-"
    }
   },
   "source": [
    "Let's visualize the training process!  \n",
    "The following trains a neural network that predicts the color of a point $(x_1,x_2)$:\n",
    "\n",
    "- Choose a data set from the `DATA` column.\n",
    "- Click the `play` button to start training the network. \n",
    "- `Epoch` is the number of times a neural network is trained iteratively using the data selected.\n",
    "- In the `OUTPUT` column, \n",
    "  - points in the blue region are predicted blue, and\n",
    "  - points in the orange region are predicted orange."
   ]
  },
  {
   "cell_type": "markdown",
   "id": "83224abb",
   "metadata": {
    "editable": true,
    "slideshow": {
     "slide_type": ""
    }
   },
   "source": [
    "::::{card}\n",
    ":header: [open in new tab](https://www.cs.cityu.edu.hk/~ccha23/playground)\n",
    ":::{iframe} https://www.cs.cityu.edu.hk/~ccha23/playground\n",
    ":::\n",
    "::::"
   ]
  },
  {
   "cell_type": "markdown",
   "id": "f9d47c53",
   "metadata": {
    "cell_style": "center",
    "editable": true,
    "slideshow": {
     "slide_type": "notes"
    }
   },
   "source": [
    "The above app is a slight modification of the open source project [Tensorflow Playground](https://playground.tensorflow.org) with the additional features that:\n",
    "- You can save your configuration to the browser session by clicking the button `Save to browser session`. If you reopen the browser, it will load your previously saved configuration automatically.\n",
    "- You can reset the configuration by clicking the `Reset` button.\n",
    "- The last button `Copy permalink to clipboard` copies the permalink to your configuration to the clipboard. You can save/share multiple configurations permanently using their the permalinks."
   ]
  },
  {
   "cell_type": "markdown",
   "id": "e1daf104",
   "metadata": {
    "editable": true,
    "slideshow": {
     "slide_type": "subslide"
    }
   },
   "source": [
    "For instance, the following uses the permalink to initialize the simplest neural network for a linearly separable data:"
   ]
  },
  {
   "cell_type": "markdown",
   "id": "e6d49afb",
   "metadata": {
    "editable": true,
    "slideshow": {
     "slide_type": ""
    }
   },
   "source": [
    "::::{card}\n",
    ":header: [open in new tab](https://www.cs.cityu.edu.hk/~ccha23/playground/#activation=tanh&batchSize=10&dataset=gauss&regDataset=reg-plane&learningRate=0.03&regularizationRate=0&noise=0&networkShape=1&seed=0.82593&showTestData=false&discretize=false&percTrainData=50&x=true&y=true&xTimesY=false&xSquared=false&ySquared=false&cosX=false&sinX=false&cosY=false&sinY=false&collectStats=false&problem=classification&initZero=false&hideText=false)\n",
    ":::{iframe} https://www.cs.cityu.edu.hk/~ccha23/playground/#activation=tanh&batchSize=10&dataset=gauss&regDataset=reg-plane&learningRate=0.03&regularizationRate=0&noise=0&networkShape=1&seed=0.82593&showTestData=false&discretize=false&percTrainData=50&x=true&y=true&xTimesY=false&xSquared=false&ySquared=false&cosX=false&sinX=false&cosY=false&sinY=false&collectStats=false&problem=classification&initZero=false&hideText=false\n",
    ":width: 100%\n",
    "\n",
    ":::\n",
    "::::"
   ]
  },
  {
   "cell_type": "markdown",
   "id": "497b9e44",
   "metadata": {
    "editable": true,
    "slideshow": {
     "slide_type": "subslide"
    }
   },
   "source": [
    "::::{exercise}\n",
    ":label: ex:1\n",
    "Try to classify the 'spiral' dataset well. Explain how you design your neural network and include a screen capture in the following cell such as:  \n",
    "![spiral](spiral.png)\n",
    "::::"
   ]
  },
  {
   "cell_type": "markdown",
   "id": "82ee076e",
   "metadata": {
    "deletable": false,
    "editable": true,
    "nbgrader": {
     "cell_type": "markdown",
     "checksum": "d3dd588956b73e36e44b25bf6de9e68c",
     "grade": true,
     "grade_id": "spiral",
     "locked": false,
     "points": 1,
     "schema_version": 3,
     "solution": true,
     "task": false
    },
    "slideshow": {
     "slide_type": "-"
    }
   },
   "source": [
    "YOUR ANSWER HERE"
   ]
  },
  {
   "cell_type": "markdown",
   "id": "c313aee2",
   "metadata": {
    "editable": true,
    "slideshow": {
     "slide_type": "notes"
    }
   },
   "source": [
    "::::{note}\n",
    "\n",
    "You can also [fork and modify the code on GitHub](https://github.com/tensorflow/tensorflow/pulls) to add new features, e.g., to customize the datasets and store the trained neural network.  Is it possible to extend the app to \n",
    "- higher-dimensional dataset say $(x_1,x_2,x_3, \\dots)$, and\n",
    "- multiple class values say orange, blue, red, ...?\n",
    "\n",
    "::::"
   ]
  },
  {
   "cell_type": "markdown",
   "id": "4d724e7a",
   "metadata": {
    "editable": true,
    "slideshow": {
     "slide_type": "slide"
    }
   },
   "source": [
    "### Teachable machine"
   ]
  },
  {
   "cell_type": "markdown",
   "id": "64b488c8",
   "metadata": {
    "editable": true,
    "slideshow": {
     "slide_type": "-"
    }
   },
   "source": [
    "It is possible to train a practical neural network without any coding, by using a service called the [Teachable Machine](https://teachablemachine.withgoogle.com/)."
   ]
  },
  {
   "cell_type": "markdown",
   "id": "83c4ff68",
   "metadata": {
    "editable": true,
    "slideshow": {
     "slide_type": "notes"
    }
   },
   "source": [
    "E.g., click the `play` button at the bottom of the interactive slides below to train a machine that recognizes musical notes."
   ]
  },
  {
   "cell_type": "markdown",
   "id": "60bed50f",
   "metadata": {
    "editable": true,
    "slideshow": {
     "slide_type": ""
    }
   },
   "source": [
    "::::{card}\n",
    ":header: [open in new tab](https://www.cs.cityu.edu.hk/~ccha23/tm/slides.html), especially if you see an error opening the microphone.\n",
    ":::{iframe} https://www.cs.cityu.edu.hk/~ccha23/tm/slides.html\n",
    ":width: 100%\n",
    "\n",
    ":::\n",
    "::::"
   ]
  },
  {
   "cell_type": "markdown",
   "id": "1633079e",
   "metadata": {
    "editable": true,
    "slideshow": {
     "slide_type": "subslide"
    }
   },
   "source": [
    "::::{exercise}\n",
    ":label: ex:2\n",
    "\n",
    "Use [Teachable Machine](https://teachablemachine.withgoogle.com/) to train your machine. Explain what your machine does and include a link to it.\n",
    "::::"
   ]
  },
  {
   "cell_type": "markdown",
   "id": "d5f270d4",
   "metadata": {
    "deletable": false,
    "editable": true,
    "nbgrader": {
     "cell_type": "markdown",
     "checksum": "82802de9ab93d32a744131a48261b640",
     "grade": true,
     "grade_id": "tm",
     "locked": false,
     "points": 1,
     "schema_version": 3,
     "solution": true,
     "task": false
    },
    "slideshow": {
     "slide_type": "-"
    }
   },
   "source": [
    "YOUR ANSWER HERE"
   ]
  }
 ],
 "metadata": {
  "jupytext": {
   "default_lexer": "ipython3"
  },
  "kernelspec": {
   "display_name": "Python 3 (ipykernel)",
   "language": "python",
   "name": "python3"
  },
  "language_info": {
   "codemirror_mode": {
    "name": "ipython",
    "version": 3
   },
   "file_extension": ".py",
   "mimetype": "text/x-python",
   "name": "python",
   "nbconvert_exporter": "python",
   "pygments_lexer": "ipython3",
   "version": "3.12.11"
  }
 },
 "nbformat": 4,
 "nbformat_minor": 5
}
