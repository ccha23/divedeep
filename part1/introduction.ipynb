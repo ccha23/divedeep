{
 "cells": [
  {
   "cell_type": "markdown",
   "id": "04127544",
   "metadata": {
    "cell_style": "center",
    "slideshow": {
     "slide_type": "slide"
    }
   },
   "source": [
    "# Introduction"
   ]
  },
  {
   "cell_type": "markdown",
   "id": "67d53bc3",
   "metadata": {
    "slideshow": {
     "slide_type": "-"
    },
    "tags": [
     "remove-cell"
    ]
   },
   "source": [
    "**DIVE ino Deep Learning**\n",
    "___"
   ]
  },
  {
   "cell_type": "markdown",
   "id": "fc915320",
   "metadata": {
    "slideshow": {
     "slide_type": "slide"
    }
   },
   "source": [
    "## What is deep learning?"
   ]
  },
  {
   "cell_type": "markdown",
   "id": "8a5b4d04",
   "metadata": {
    "slideshow": {
     "slide_type": "-"
    }
   },
   "source": [
    "The following videos showcase some interesting applications of the technique."
   ]
  },
  {
   "cell_type": "code",
   "execution_count": null,
   "id": "f4b494b9",
   "metadata": {
    "hideCode": true,
    "hidePrompt": true,
    "init_cell": true,
    "slideshow": {
     "slide_type": "-"
    },
    "tags": [
     "hide-input"
    ]
   },
   "outputs": [],
   "source": [
    "%%html\n",
    "<iframe src=\"https://slides.com/ccha23/dl_intro/embed\" width=\"100%\" height=\"450\" frameBorder=\"0\" allow=\"accelerometer; autoplay; clipboard-write; encrypted-media; gyroscope; picture-in-picture\" allowfullscreen></iframe>"
   ]
  },
  {
   "cell_type": "markdown",
   "id": "c6933ef2",
   "metadata": {
    "slideshow": {
     "slide_type": "slide"
    }
   },
   "source": [
    "## How to train a neural network?"
   ]
  },
  {
   "cell_type": "markdown",
   "id": "b6e8778a",
   "metadata": {
    "slideshow": {
     "slide_type": "-"
    }
   },
   "source": [
    "[Deep learning](https://en.wikipedia.org/wiki/Deep_learning) is a technique of \n",
    "- training a *neural network* with \n",
    "- many layers of computational units called *neurons*."
   ]
  },
  {
   "cell_type": "markdown",
   "id": "0095d7aa",
   "metadata": {
    "slideshow": {
     "slide_type": "slide"
    }
   },
   "source": [
    "### Tensorflow playground"
   ]
  },
  {
   "cell_type": "markdown",
   "id": "04bb75c1",
   "metadata": {
    "slideshow": {
     "slide_type": "-"
    }
   },
   "source": [
    "Let's visualize the training process!  \n",
    "The following trains a neural network that predicts the color of a point $(x_1,x_2)$:\n",
    "\n",
    "- Choose a data set from the `DATA` column.\n",
    "- Click the `play` button to start training the network. \n",
    "- `Epoch` is the number of times a neural network is trained iteratively using the data selected.\n",
    "- In the `OUTPUT` column, \n",
    "  - points in the blue region are predicted blue, and\n",
    "  - points in the orange region are predicted orange."
   ]
  },
  {
   "cell_type": "code",
   "execution_count": null,
   "id": "bd82168e",
   "metadata": {
    "cell_style": "center",
    "hideCode": true,
    "hidePrompt": true,
    "init_cell": true,
    "slideshow": {
     "slide_type": "-"
    },
    "tags": [
     "hide-input"
    ]
   },
   "outputs": [],
   "source": [
    "%%html\n",
    "<iframe src=\"https://www.cs.cityu.edu.hk/~ccha23/playground\" width=\"100%\" height=\"900\" frameBorder=\"0\"></iframe>"
   ]
  },
  {
   "cell_type": "markdown",
   "id": "dd743f7b",
   "metadata": {
    "cell_style": "center",
    "slideshow": {
     "slide_type": "notes"
    }
   },
   "source": [
    "The above app is a slight modification of the open source project [Tensorflow Playground](https://playground.tensorflow.org) with the additional features that:\n",
    "- You can save your configuration to the browser session by clicking the button `Save to browser session`. If you reopen the browser, it will load your previously saved configuration automatically.\n",
    "- You can reset the configuration by clicking the `Reset` button.\n",
    "- The last button `Copy permalink to clipboard` copies the permalink to your configuration to the clipboard. You can save/share multiple configurations permanently using their the permalinks."
   ]
  },
  {
   "cell_type": "markdown",
   "id": "1b60b183",
   "metadata": {
    "slideshow": {
     "slide_type": "subslide"
    }
   },
   "source": [
    "For instance, the following uses the permalink to initialize the simplest neural network for a linearly separable data:"
   ]
  },
  {
   "cell_type": "code",
   "execution_count": null,
   "id": "34d66315",
   "metadata": {
    "hideCode": true,
    "hidePrompt": true,
    "init_cell": true,
    "slideshow": {
     "slide_type": "-"
    },
    "tags": [
     "hide-input"
    ]
   },
   "outputs": [],
   "source": [
    "%%html\n",
    "<iframe src=\"https://www.cs.cityu.edu.hk/~ccha23/playground/#activation=tanh&batchSize=10&dataset=gauss&regDataset=reg-plane&learningRate=0.03&regularizationRate=0&noise=0&networkShape=1&seed=0.82593&showTestData=false&discretize=false&percTrainData=50&x=true&y=true&xTimesY=false&xSquared=false&ySquared=false&cosX=false&sinX=false&cosY=false&sinY=false&collectStats=false&problem=classification&initZero=false&hideText=false\" width=\"100%\" height=\"800\" frameBorder=\"0\"></iframe>"
   ]
  },
  {
   "cell_type": "markdown",
   "id": "1fa718ff",
   "metadata": {
    "slideshow": {
     "slide_type": "subslide"
    }
   },
   "source": [
    "```{admonition} Exercise\n",
    "Try to classify the 'spiral' dataset well. Explain how you design your neural network and include a screen capture in the following cell such as:  \n",
    "![spiral](spiral.png)\n",
    "```"
   ]
  },
  {
   "cell_type": "markdown",
   "id": "3e8046d2",
   "metadata": {
    "deletable": false,
    "nbgrader": {
     "cell_type": "markdown",
     "checksum": "d3dd588956b73e36e44b25bf6de9e68c",
     "grade": true,
     "grade_id": "spiral",
     "locked": false,
     "points": 1,
     "schema_version": 3,
     "solution": true,
     "task": false
    },
    "slideshow": {
     "slide_type": "-"
    }
   },
   "source": [
    "YOUR ANSWER HERE"
   ]
  },
  {
   "cell_type": "markdown",
   "id": "bc543f10",
   "metadata": {
    "slideshow": {
     "slide_type": "notes"
    }
   },
   "source": [
    "You can also [fork and modify the code on GitHub](https://github.com/tensorflow/tensorflow/pulls) to add new features, e.g., to customize the datasets and store the trained neural network.  \n",
    "However, is it possible to extend the app to \n",
    "- higher-dimensional dataset say $(x_1,x_2,x_3, \\dots)$, and\n",
    "- multiple class values say orange, blue, red, ...?"
   ]
  },
  {
   "cell_type": "markdown",
   "id": "e6f5b8b0",
   "metadata": {
    "slideshow": {
     "slide_type": "slide"
    }
   },
   "source": [
    "### Teachable machine"
   ]
  },
  {
   "cell_type": "markdown",
   "id": "88193c10",
   "metadata": {
    "slideshow": {
     "slide_type": "-"
    }
   },
   "source": [
    "It is possible to train a practical neural network without any coding, by using a service called the [Teachable Machine](https://teachablemachine.withgoogle.com/)."
   ]
  },
  {
   "cell_type": "markdown",
   "id": "ac536fc4",
   "metadata": {
    "slideshow": {
     "slide_type": "notes"
    }
   },
   "source": [
    "E.g., click the `play` button at the bottom of the interactive slides below to train a machine that recognizes musical notes."
   ]
  },
  {
   "cell_type": "code",
   "execution_count": null,
   "id": "b3a7a898",
   "metadata": {
    "hideCode": true,
    "hidePrompt": true,
    "init_cell": true,
    "slideshow": {
     "slide_type": "-"
    },
    "tags": [
     "hide-input"
    ]
   },
   "outputs": [],
   "source": [
    "%%html\n",
    "<iframe src=\"https://www.cs.cityu.edu.hk/~ccha23/tm/slides.html\" width=\"100%\" height=\"450\" frameBorder=\"0\" allow=\"microphone\"></iframe>"
   ]
  },
  {
   "cell_type": "markdown",
   "id": "02fa63d9",
   "metadata": {
    "slideshow": {
     "slide_type": "subslide"
    }
   },
   "source": [
    "```{admonition} Exercise\n",
    "Use [Teachable Machine](https://teachablemachine.withgoogle.com/) to train your machine. Explain what your machine does and include a link to it.\n",
    "```"
   ]
  },
  {
   "cell_type": "markdown",
   "id": "6844f219",
   "metadata": {
    "deletable": false,
    "nbgrader": {
     "cell_type": "markdown",
     "checksum": "82802de9ab93d32a744131a48261b640",
     "grade": true,
     "grade_id": "tm",
     "locked": false,
     "points": 1,
     "schema_version": 3,
     "solution": true,
     "task": false
    },
    "slideshow": {
     "slide_type": "-"
    }
   },
   "source": [
    "YOUR ANSWER HERE"
   ]
  }
 ],
 "metadata": {
  "kernelspec": {
   "display_name": "Python 3 (ipykernel)",
   "language": "python",
   "name": "python3"
  },
  "language_info": {
   "codemirror_mode": {
    "name": "ipython",
    "version": 3
   },
   "file_extension": ".py",
   "mimetype": "text/x-python",
   "name": "python",
   "nbconvert_exporter": "python",
   "pygments_lexer": "ipython3",
   "version": "3.10.12"
  }
 },
 "nbformat": 4,
 "nbformat_minor": 5
}
