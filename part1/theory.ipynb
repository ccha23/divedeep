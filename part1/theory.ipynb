{
 "cells": [
  {
   "cell_type": "markdown",
   "metadata": {
    "slideshow": {
     "slide_type": "slide"
    }
   },
   "source": [
    "# Mathematical Preliminaries"
   ]
  },
  {
   "cell_type": "markdown",
   "metadata": {
    "slideshow": {
     "slide_type": "-"
    },
    "tags": [
     "remove-cell"
    ]
   },
   "source": [
    "**DIVE into Deep Learning**\n",
    "___"
   ]
  },
  {
   "cell_type": "code",
   "execution_count": null,
   "metadata": {
    "ExecuteTime": {
     "end_time": "2021-05-21T10:20:22.410114Z",
     "start_time": "2021-05-21T10:20:22.407572Z"
    },
    "init_cell": true,
    "slideshow": {
     "slide_type": "notes"
    }
   },
   "outputs": [],
   "source": [
    "from IPython import display\n",
    "from manim import *"
   ]
  },
  {
   "cell_type": "markdown",
   "metadata": {
    "slideshow": {
     "slide_type": "-"
    }
   },
   "source": [
    "The following is a lecture series that introduces the basic theory of deep learning."
   ]
  },
  {
   "cell_type": "code",
   "execution_count": null,
   "metadata": {
    "ExecuteTime": {
     "end_time": "2021-05-21T10:20:22.416122Z",
     "start_time": "2021-05-21T10:20:22.412232Z"
    },
    "hideCode": true,
    "hidePrompt": true,
    "init_cell": true,
    "slideshow": {
     "slide_type": "-"
    },
    "tags": [
     "hide-input"
    ]
   },
   "outputs": [],
   "source": [
    "display.IFrame(src=\"https://www.youtube.com/embed/videoseries?list=PLZHQObOWTQDNU6R1_67000Dx_ZCJB-3pi\", width=\"100%\", height=450)"
   ]
  },
  {
   "cell_type": "markdown",
   "metadata": {
    "slideshow": {
     "slide_type": "notes"
    }
   },
   "source": [
    "Understanding the lectures requires some background on vector calculus and probability theory. $\\def\\abs#1{\\left\\lvert #1 \\right\\rvert}\n",
    "\\def\\Set#1{\\left\\{ #1 \\right\\}}\n",
    "\\def\\mc#1{\\mathcal{#1}}\n",
    "\\def\\M#1{\\boldsymbol{#1}}\n",
    "\\def\\R#1{\\mathsf{#1}}\n",
    "\\def\\RM#1{\\boldsymbol{\\mathsf{#1}}}\n",
    "\\def\\op#1{\\operatorname{#1}}\n",
    "\\def\\E{\\op{E}}\n",
    "\\def\\d{\\mathrm{\\mathstrut d}}\n",
    "$"
   ]
  },
  {
   "cell_type": "markdown",
   "metadata": {
    "slideshow": {
     "slide_type": "subslide"
    }
   },
   "source": [
    "**What to know about vector calculus?**"
   ]
  },
  {
   "cell_type": "code",
   "execution_count": null,
   "metadata": {
    "ExecuteTime": {
     "end_time": "2021-05-21T10:20:22.421608Z",
     "start_time": "2021-05-21T10:20:22.417659Z"
    },
    "code_folding": [],
    "hideCode": true,
    "hidePrompt": true,
    "init_cell": true,
    "slideshow": {
     "slide_type": "-"
    },
    "tags": [
     "hide-input"
    ]
   },
   "outputs": [],
   "source": [
    "%%html\n",
    "<b>Notation:</b><br>\n",
    "<video width=\"100%\" height=\"450\" controls>\n",
    "      <source src=\"https://www.cs.cityu.edu.hk/~ccha23/dl/Notation.mp4\" type=\"video/mp4\">\n",
    "</video>"
   ]
  },
  {
   "cell_type": "markdown",
   "metadata": {
    "cell_style": "split",
    "slideshow": {
     "slide_type": "subslide"
    }
   },
   "source": [
    "- [Vectors](https://en.wikipedia.org/wiki/Vector_(mathematics_and_physics)) in lowercase boldface font: \n",
    "\n",
    "$$\\M{x}=\\begin{bmatrix}x_1 \\\\ x_2 \\\\ \\vdots \\end{bmatrix}$$"
   ]
  },
  {
   "cell_type": "markdown",
   "metadata": {
    "cell_style": "split",
    "slideshow": {
     "slide_type": "-"
    }
   },
   "source": [
    "- [Matrices](https://en.wikipedia.org/wiki/Matrix_(mathematics)) in uppercase boldface font:\n",
    "\n",
    "$$\\M{W}=\\begin{bmatrix}w_{11} & w_{12} & \\cdots \\\\\n",
    "w_{21} & \\ddots &  \\\\\n",
    "\\vdots &  &  \\end{bmatrix}$$"
   ]
  },
  {
   "cell_type": "markdown",
   "metadata": {
    "slideshow": {
     "slide_type": "-"
    }
   },
   "source": [
    "- [Matrix multiplication](https://en.wikipedia.org/wiki/Matrix_multiplication):\n",
    "\n",
    "$$\\M{W}\\M{x} = \\begin{bmatrix}w_{11} & w_{12} & \\cdots \\\\\n",
    "w_{21} & \\ddots &  \\\\\n",
    "\\vdots &  &  \\end{bmatrix}\n",
    "\\begin{bmatrix}x_1 \\\\ x_2 \\\\ \\vdots \\end{bmatrix}\n",
    "=\n",
    "\\begin{bmatrix}w_{11}x_1 + w_{12}x_2 + \\cdots \\\\ w_{21}x_1+\\cdots \\\\ \\vdots \\end{bmatrix}\n",
    "$$"
   ]
  },
  {
   "cell_type": "markdown",
   "metadata": {
    "slideshow": {
     "slide_type": "subslide"
    }
   },
   "source": [
    "**What to know about Probability Theory?**"
   ]
  },
  {
   "cell_type": "code",
   "execution_count": null,
   "metadata": {
    "ExecuteTime": {
     "end_time": "2021-05-21T10:20:22.426611Z",
     "start_time": "2021-05-21T10:20:22.423127Z"
    },
    "code_folding": [],
    "hideCode": true,
    "hidePrompt": true,
    "init_cell": true,
    "slideshow": {
     "slide_type": "-"
    },
    "tags": [
     "hide-input"
    ]
   },
   "outputs": [],
   "source": [
    "%%html\n",
    "<b>Distribution:</b><br>\n",
    "<video width=\"100%\" height=\"450\" controls>\n",
    "      <source src=\"https://www.cs.cityu.edu.hk/~ccha23/dl/Distribution.mp4\" type=\"video/mp4\">\n",
    "</video>"
   ]
  },
  {
   "cell_type": "markdown",
   "metadata": {
    "slideshow": {
     "slide_type": "subslide"
    }
   },
   "source": [
    "[Joint distribution](https://en.wikipedia.org/wiki/Joint_probability_distribution#Mixed_case):  \n",
    "\n",
    "$$p_{\\RM{x}\\R{y}}(\\M{x},y)= \\underbrace{p_{\\R{y}|\\RM{x}}(y|\\M{x})}_{\\underbrace{\\Pr}_{\\text{probability measure}\\kern-3em}\\Set{\\R{y}=y|\\RM{x}=\\M{x}}} \\cdot \\underbrace{p_{\\RM{x}}(\\M{x})}_{(\\underbrace{\\partial_{x_1}}_{\\text{partial derivative w.r.t. $x_1$}\\kern-5em} \\partial_{x_2}\\cdots)\\Pr\\Set{\\RM{x} \\leq \\M{x}}\\kern-4em}\\kern1em \\text{where}$$    \n",
    "- $p_{\\R{y}|\\RM{x}}(y|\\M{x})$ is the *probability mass function [(pmf)](https://en.wikipedia.org/wiki/Probability_mass_function)* of $\\R{y}=y\\in \\mc{Y}$ [conditioned](https://en.wikipedia.org/wiki/Conditional_probability_distribution) on $\\RM{x}=\\M{x}\\in \\mc{X}$, and\n",
    "- $p_{\\RM{x}}(\\M{x})$ is the *(multivariate) probability density function [(pdf)](https://en.wikipedia.org/wiki/Probability_density_function#Densities_associated_with_multiple_variables)* of $\\RM{x}=\\M{x}\\in \\mc{X}$."
   ]
  },
  {
   "cell_type": "code",
   "execution_count": null,
   "metadata": {
    "ExecuteTime": {
     "end_time": "2021-05-21T10:20:22.431786Z",
     "start_time": "2021-05-21T10:20:22.428287Z"
    },
    "code_folding": [],
    "hideCode": true,
    "hidePrompt": true,
    "init_cell": true,
    "slideshow": {
     "slide_type": "subslide"
    },
    "tags": [
     "hide-input"
    ]
   },
   "outputs": [],
   "source": [
    "%%html\n",
    "<b>Expectation:<br>\n",
    "<video width=\"100%\" height=\"450\" controls>\n",
    "      <source src=\"https://www.cs.cityu.edu.hk/~ccha23/dl/Expectation.mp4\" type=\"video/mp4\">\n",
    "</video>"
   ]
  },
  {
   "cell_type": "markdown",
   "metadata": {
    "slideshow": {
     "slide_type": "subslide"
    }
   },
   "source": [
    "For any function $g$ of $(\\RM{x},y)$, the expectations are:  \n",
    "  \n",
    "$$\n",
    "\\begin{align}\n",
    "\\E[g(\\RM{x},\\R{y})|\\RM{x}]&=\\sum_{y\\in \\mc{Y}} g(\\RM{x},y)\\cdot p_{\\R{y}|\\RM{x}}(y|\\RM{x})\\tag{conditional exp.}\n",
    "\\\\\n",
    "\\E[g(\\RM{x},\\R{y})] &=\\int_{\\mc{X}} \\underbrace{\\sum_{y\\in \\mc{Y}} g(\\RM{x},y)\\cdot \\underbrace{p_{\\RM{x},\\R{y}}(\\M{x},y)}_{p_{\\R{y}|\\RM{x}}(y|\\M{x}) p_{\\R{x}}(\\M{x})}\\kern-1.7em}_{\\E[g(\\RM{x},\\R{y})|\\RM{x}]}\\kern1.4em\\,\\d \\M{x} \\tag{exp.}\\\\\n",
    "&= \\E[\\E[g(\\RM{x},\\R{y})|\\RM{x}]] \\tag{iterated exp.}\n",
    "\\end{align}\n",
    "$$"
   ]
  },
  {
   "cell_type": "markdown",
   "metadata": {
    "slideshow": {
     "slide_type": "subslide"
    }
   },
   "source": [
    "All the videos were created using the python library [mathematical animation engine (`manim`)](https://github.com/3b1b/manim)."
   ]
  },
  {
   "cell_type": "code",
   "execution_count": null,
   "metadata": {
    "ExecuteTime": {
     "end_time": "2021-05-21T10:20:22.435741Z",
     "start_time": "2021-05-21T10:20:22.433308Z"
    },
    "slideshow": {
     "slide_type": "-"
    }
   },
   "outputs": [],
   "source": [
    "from manim import *"
   ]
  },
  {
   "cell_type": "markdown",
   "metadata": {
    "slideshow": {
     "slide_type": "subslide"
    }
   },
   "source": [
    "**Exercise** Run the following cell and see the effect when changing\n",
    "\n",
    "- Mobjects `Text('Hello, World!')` to \n",
    "  - `MathTex(r'E=mc^2')` or\n",
    "  - `Circle()` or\n",
    "  - `Square()`...\n",
    "- Animation objects `Write` to \n",
    "  - `FadeIn` or \n",
    "  - `GrowFromCenter`..."
   ]
  },
  {
   "cell_type": "markdown",
   "metadata": {
    "slideshow": {
     "slide_type": "notes"
    }
   },
   "source": [
    "You may take a look at the documentation [here](https://docs.manim.community/en/v0.2.0/index.html) and a more detailed [tutorial](https://talkingphysics.wordpress.com/2019/01/08/getting-started-animating-with-manim-and-python-3-7/) here to create more complicated animations. Since rending videos take time, create a separate notebook for more intensive work without affecting the autograding of this notebook."
   ]
  },
  {
   "cell_type": "code",
   "execution_count": null,
   "metadata": {
    "ExecuteTime": {
     "end_time": "2021-05-21T10:20:23.056069Z",
     "start_time": "2021-05-21T10:20:22.437095Z"
    },
    "hideCode": false,
    "slideshow": {
     "slide_type": "-"
    }
   },
   "outputs": [],
   "source": [
    "%%manim -ql --progress_bar=none --disable_caching --flush_cache -v ERROR HelloWorld\n",
    "class HelloWorld(Scene):\n",
    "    def construct(self):\n",
    "        self.play(Write(Text('Hello, World!')))"
   ]
  },
  {
   "cell_type": "markdown",
   "metadata": {
    "slideshow": {
     "slide_type": "fragment"
    },
    "tags": []
   },
   "source": [
    "To show all the options available to `manim`:"
   ]
  },
  {
   "cell_type": "code",
   "execution_count": null,
   "metadata": {
    "tags": [
     "hide-output"
    ]
   },
   "outputs": [],
   "source": [
    "%manim render --help"
   ]
  }
 ],
 "metadata": {
  "kernelspec": {
   "display_name": "Python 3 (ipykernel)",
   "language": "python",
   "name": "python3"
  },
  "language_info": {
   "codemirror_mode": {
    "name": "ipython",
    "version": 3
   },
   "file_extension": ".py",
   "mimetype": "text/x-python",
   "name": "python",
   "nbconvert_exporter": "python",
   "pygments_lexer": "ipython3",
   "version": "3.8.10"
  },
  "rise": {
   "enable_chalkboard": true,
   "scroll": true,
   "theme": "white"
  },
  "toc": {
   "base_numbering": 1,
   "nav_menu": {},
   "number_sections": true,
   "sideBar": true,
   "skip_h1_title": true,
   "title_cell": "Table of Contents",
   "title_sidebar": "Contents",
   "toc_cell": false,
   "toc_position": {},
   "toc_section_display": true,
   "toc_window_display": false
  }
 },
 "nbformat": 4,
 "nbformat_minor": 4
}
